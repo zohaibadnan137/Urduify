{
 "cells": [
  {
   "cell_type": "code",
   "metadata": {
    "id": "13iiwjYUqwFq",
    "cell_id": "0b8a50c0-b443-4928-a53e-7c39b58fe64e",
    "deepnote_app_coordinates": {
     "x": 0,
     "y": 1,
     "w": 12,
     "h": 5
    },
    "deepnote_cell_type": "code",
    "deepnote_cell_height": 61
   },
   "source": "import pandas as pd",
   "execution_count": null,
   "outputs": []
  },
  {
   "cell_type": "markdown",
   "source": "### 1st dataset (English-Urdu-Roman.txt)",
   "metadata": {
    "id": "I2Ctrm1hI0pQ",
    "cell_id": "00001-2b869cf6-b1d3-4f71-b4c7-54a7652c11f5",
    "deepnote_app_coordinates": {
     "x": 0,
     "y": 7,
     "w": 12,
     "h": 5
    },
    "deepnote_cell_type": "markdown",
    "deepnote_cell_height": 62
   }
  },
  {
   "cell_type": "code",
   "metadata": {
    "id": "6KOR-Qh-reQz",
    "cell_id": "00002-aa97522d-0e0e-40db-8f33-47c4ee14294e",
    "deepnote_app_coordinates": {
     "x": 0,
     "y": 13,
     "w": 12,
     "h": 5
    },
    "deepnote_cell_type": "code",
    "deepnote_cell_height": 61
   },
   "source": "df = pd.read_csv(\"English-Urdu-Roman.txt\", sep = \":\", names=['English', 'Urdu', 'Roman-Urdu'])",
   "execution_count": null,
   "outputs": []
  },
  {
   "cell_type": "code",
   "metadata": {
    "colab": {
     "base_uri": "https://localhost:8080/"
    },
    "id": "10KbgBHhrwNS",
    "outputId": "e7601502-52f2-4584-852d-2384e1bff430",
    "cell_id": "00003-80812eb4-7ecd-4dc1-abd5-9c76f864ff21",
    "deepnote_app_coordinates": {
     "x": 0,
     "y": 19,
     "w": 12,
     "h": 5
    },
    "deepnote_cell_type": "code",
    "deepnote_cell_height": 269,
    "deepnote_output_heights": [
     177
    ]
   },
   "source": "df.head()",
   "execution_count": null,
   "outputs": [
    {
     "output_type": "execute_result",
     "data": {
      "text/plain": "    English    Urdu Roman-Urdu\n0     News     خبر      khabar\n1   Lively    آباد      aabaad\n2    Honor    آبرو       aabru\n3      you      آپ         aap\n4  Manners    آداب      aadaab",
      "text/html": "\n  <div id=\"df-ff586c08-c5ae-456f-86f9-4992bde173e5\">\n    <div class=\"colab-df-container\">\n      <div>\n<style scoped>\n    .dataframe tbody tr th:only-of-type {\n        vertical-align: middle;\n    }\n\n    .dataframe tbody tr th {\n        vertical-align: top;\n    }\n\n    .dataframe thead th {\n        text-align: right;\n    }\n</style>\n<table border=\"1\" class=\"dataframe\">\n  <thead>\n    <tr style=\"text-align: right;\">\n      <th></th>\n      <th>English</th>\n      <th>Urdu</th>\n      <th>Roman-Urdu</th>\n    </tr>\n  </thead>\n  <tbody>\n    <tr>\n      <th>0</th>\n      <td>News</td>\n      <td>خبر</td>\n      <td>khabar</td>\n    </tr>\n    <tr>\n      <th>1</th>\n      <td>Lively</td>\n      <td>آباد</td>\n      <td>aabaad</td>\n    </tr>\n    <tr>\n      <th>2</th>\n      <td>Honor</td>\n      <td>آبرو</td>\n      <td>aabru</td>\n    </tr>\n    <tr>\n      <th>3</th>\n      <td>you</td>\n      <td>آپ</td>\n      <td>aap</td>\n    </tr>\n    <tr>\n      <th>4</th>\n      <td>Manners</td>\n      <td>آداب</td>\n      <td>aadaab</td>\n    </tr>\n  </tbody>\n</table>\n</div>\n      <button class=\"colab-df-convert\" onclick=\"convertToInteractive('df-ff586c08-c5ae-456f-86f9-4992bde173e5')\"\n              title=\"Convert this dataframe to an interactive table.\"\n              style=\"display:none;\">\n        \n  <svg xmlns=\"http://www.w3.org/2000/svg\" height=\"24px\"viewBox=\"0 0 24 24\"\n       width=\"24px\">\n    <path d=\"M0 0h24v24H0V0z\" fill=\"none\"/>\n    <path d=\"M18.56 5.44l.94 2.06.94-2.06 2.06-.94-2.06-.94-.94-2.06-.94 2.06-2.06.94zm-11 1L8.5 8.5l.94-2.06 2.06-.94-2.06-.94L8.5 2.5l-.94 2.06-2.06.94zm10 10l.94 2.06.94-2.06 2.06-.94-2.06-.94-.94-2.06-.94 2.06-2.06.94z\"/><path d=\"M17.41 7.96l-1.37-1.37c-.4-.4-.92-.59-1.43-.59-.52 0-1.04.2-1.43.59L10.3 9.45l-7.72 7.72c-.78.78-.78 2.05 0 2.83L4 21.41c.39.39.9.59 1.41.59.51 0 1.02-.2 1.41-.59l7.78-7.78 2.81-2.81c.8-.78.8-2.07 0-2.86zM5.41 20L4 18.59l7.72-7.72 1.47 1.35L5.41 20z\"/>\n  </svg>\n      </button>\n      \n  <style>\n    .colab-df-container {\n      display:flex;\n      flex-wrap:wrap;\n      gap: 12px;\n    }\n\n    .colab-df-convert {\n      background-color: #E8F0FE;\n      border: none;\n      border-radius: 50%;\n      cursor: pointer;\n      display: none;\n      fill: #1967D2;\n      height: 32px;\n      padding: 0 0 0 0;\n      width: 32px;\n    }\n\n    .colab-df-convert:hover {\n      background-color: #E2EBFA;\n      box-shadow: 0px 1px 2px rgba(60, 64, 67, 0.3), 0px 1px 3px 1px rgba(60, 64, 67, 0.15);\n      fill: #174EA6;\n    }\n\n    [theme=dark] .colab-df-convert {\n      background-color: #3B4455;\n      fill: #D2E3FC;\n    }\n\n    [theme=dark] .colab-df-convert:hover {\n      background-color: #434B5C;\n      box-shadow: 0px 1px 3px 1px rgba(0, 0, 0, 0.15);\n      filter: drop-shadow(0px 1px 2px rgba(0, 0, 0, 0.3));\n      fill: #FFFFFF;\n    }\n  </style>\n\n      <script>\n        const buttonEl =\n          document.querySelector('#df-ff586c08-c5ae-456f-86f9-4992bde173e5 button.colab-df-convert');\n        buttonEl.style.display =\n          google.colab.kernel.accessAllowed ? 'block' : 'none';\n\n        async function convertToInteractive(key) {\n          const element = document.querySelector('#df-ff586c08-c5ae-456f-86f9-4992bde173e5');\n          const dataTable =\n            await google.colab.kernel.invokeFunction('convertToInteractive',\n                                                     [key], {});\n          if (!dataTable) return;\n\n          const docLinkHtml = 'Like what you see? Visit the ' +\n            '<a target=\"_blank\" href=https://colab.research.google.com/notebooks/data_table.ipynb>data table notebook</a>'\n            + ' to learn more about interactive tables.';\n          element.innerHTML = '';\n          dataTable['output_type'] = 'display_data';\n          await google.colab.output.renderOutput(dataTable, element);\n          const docLink = document.createElement('div');\n          docLink.innerHTML = docLinkHtml;\n          element.appendChild(docLink);\n        }\n      </script>\n    </div>\n  </div>\n  "
     },
     "metadata": {},
     "execution_count": 3
    }
   ]
  },
  {
   "cell_type": "code",
   "metadata": {
    "id": "AOKds-0Lr0sQ",
    "cell_id": "00004-4730dec1-1bc6-46d8-947a-3a9f0954472c",
    "deepnote_app_coordinates": {
     "x": 0,
     "y": 25,
     "w": 12,
     "h": 5
    },
    "deepnote_cell_type": "code",
    "deepnote_cell_height": 61
   },
   "source": "df.drop(columns=['English'], inplace=True)",
   "execution_count": null,
   "outputs": []
  },
  {
   "cell_type": "code",
   "metadata": {
    "colab": {
     "base_uri": "https://localhost:8080/"
    },
    "id": "bAMkycmXBoI1",
    "outputId": "a3f534ad-3412-4a91-9ae9-f8e9b685d210",
    "cell_id": "00005-c92bd740-1eae-4efe-b086-49a2c7677b25",
    "deepnote_app_coordinates": {
     "x": 0,
     "y": 31,
     "w": 12,
     "h": 5
    },
    "deepnote_cell_type": "code",
    "deepnote_cell_height": 474.1875,
    "deepnote_output_heights": [
     382.1875
    ]
   },
   "source": "df",
   "execution_count": null,
   "outputs": [
    {
     "output_type": "execute_result",
     "data": {
      "text/plain": "         Urdu  Roman-Urdu\n0        خبر       khabar\n1       آباد       aabaad\n2       آبرو        aabru\n3         آپ          aap\n4       آداب       aadaab\n..        ...         ...\n484       یا          yaa\n485       یا          yaa\n486   یادگار    yaad gaar\n487    یاقوت      yaaqoot\n488     یتیم       yateem\n\n[489 rows x 2 columns]",
      "text/html": "\n  <div id=\"df-24638705-740e-4af9-a276-75ccb9bf39d6\">\n    <div class=\"colab-df-container\">\n      <div>\n<style scoped>\n    .dataframe tbody tr th:only-of-type {\n        vertical-align: middle;\n    }\n\n    .dataframe tbody tr th {\n        vertical-align: top;\n    }\n\n    .dataframe thead th {\n        text-align: right;\n    }\n</style>\n<table border=\"1\" class=\"dataframe\">\n  <thead>\n    <tr style=\"text-align: right;\">\n      <th></th>\n      <th>Urdu</th>\n      <th>Roman-Urdu</th>\n    </tr>\n  </thead>\n  <tbody>\n    <tr>\n      <th>0</th>\n      <td>خبر</td>\n      <td>khabar</td>\n    </tr>\n    <tr>\n      <th>1</th>\n      <td>آباد</td>\n      <td>aabaad</td>\n    </tr>\n    <tr>\n      <th>2</th>\n      <td>آبرو</td>\n      <td>aabru</td>\n    </tr>\n    <tr>\n      <th>3</th>\n      <td>آپ</td>\n      <td>aap</td>\n    </tr>\n    <tr>\n      <th>4</th>\n      <td>آداب</td>\n      <td>aadaab</td>\n    </tr>\n    <tr>\n      <th>...</th>\n      <td>...</td>\n      <td>...</td>\n    </tr>\n    <tr>\n      <th>484</th>\n      <td>یا</td>\n      <td>yaa</td>\n    </tr>\n    <tr>\n      <th>485</th>\n      <td>یا</td>\n      <td>yaa</td>\n    </tr>\n    <tr>\n      <th>486</th>\n      <td>یادگار</td>\n      <td>yaad gaar</td>\n    </tr>\n    <tr>\n      <th>487</th>\n      <td>یاقوت</td>\n      <td>yaaqoot</td>\n    </tr>\n    <tr>\n      <th>488</th>\n      <td>یتیم</td>\n      <td>yateem</td>\n    </tr>\n  </tbody>\n</table>\n<p>489 rows × 2 columns</p>\n</div>\n      <button class=\"colab-df-convert\" onclick=\"convertToInteractive('df-24638705-740e-4af9-a276-75ccb9bf39d6')\"\n              title=\"Convert this dataframe to an interactive table.\"\n              style=\"display:none;\">\n        \n  <svg xmlns=\"http://www.w3.org/2000/svg\" height=\"24px\"viewBox=\"0 0 24 24\"\n       width=\"24px\">\n    <path d=\"M0 0h24v24H0V0z\" fill=\"none\"/>\n    <path d=\"M18.56 5.44l.94 2.06.94-2.06 2.06-.94-2.06-.94-.94-2.06-.94 2.06-2.06.94zm-11 1L8.5 8.5l.94-2.06 2.06-.94-2.06-.94L8.5 2.5l-.94 2.06-2.06.94zm10 10l.94 2.06.94-2.06 2.06-.94-2.06-.94-.94-2.06-.94 2.06-2.06.94z\"/><path d=\"M17.41 7.96l-1.37-1.37c-.4-.4-.92-.59-1.43-.59-.52 0-1.04.2-1.43.59L10.3 9.45l-7.72 7.72c-.78.78-.78 2.05 0 2.83L4 21.41c.39.39.9.59 1.41.59.51 0 1.02-.2 1.41-.59l7.78-7.78 2.81-2.81c.8-.78.8-2.07 0-2.86zM5.41 20L4 18.59l7.72-7.72 1.47 1.35L5.41 20z\"/>\n  </svg>\n      </button>\n      \n  <style>\n    .colab-df-container {\n      display:flex;\n      flex-wrap:wrap;\n      gap: 12px;\n    }\n\n    .colab-df-convert {\n      background-color: #E8F0FE;\n      border: none;\n      border-radius: 50%;\n      cursor: pointer;\n      display: none;\n      fill: #1967D2;\n      height: 32px;\n      padding: 0 0 0 0;\n      width: 32px;\n    }\n\n    .colab-df-convert:hover {\n      background-color: #E2EBFA;\n      box-shadow: 0px 1px 2px rgba(60, 64, 67, 0.3), 0px 1px 3px 1px rgba(60, 64, 67, 0.15);\n      fill: #174EA6;\n    }\n\n    [theme=dark] .colab-df-convert {\n      background-color: #3B4455;\n      fill: #D2E3FC;\n    }\n\n    [theme=dark] .colab-df-convert:hover {\n      background-color: #434B5C;\n      box-shadow: 0px 1px 3px 1px rgba(0, 0, 0, 0.15);\n      filter: drop-shadow(0px 1px 2px rgba(0, 0, 0, 0.3));\n      fill: #FFFFFF;\n    }\n  </style>\n\n      <script>\n        const buttonEl =\n          document.querySelector('#df-24638705-740e-4af9-a276-75ccb9bf39d6 button.colab-df-convert');\n        buttonEl.style.display =\n          google.colab.kernel.accessAllowed ? 'block' : 'none';\n\n        async function convertToInteractive(key) {\n          const element = document.querySelector('#df-24638705-740e-4af9-a276-75ccb9bf39d6');\n          const dataTable =\n            await google.colab.kernel.invokeFunction('convertToInteractive',\n                                                     [key], {});\n          if (!dataTable) return;\n\n          const docLinkHtml = 'Like what you see? Visit the ' +\n            '<a target=\"_blank\" href=https://colab.research.google.com/notebooks/data_table.ipynb>data table notebook</a>'\n            + ' to learn more about interactive tables.';\n          element.innerHTML = '';\n          dataTable['output_type'] = 'display_data';\n          await google.colab.output.renderOutput(dataTable, element);\n          const docLink = document.createElement('div');\n          docLink.innerHTML = docLinkHtml;\n          element.appendChild(docLink);\n        }\n      </script>\n    </div>\n  </div>\n  "
     },
     "metadata": {},
     "execution_count": 5
    }
   ]
  },
  {
   "cell_type": "code",
   "metadata": {
    "id": "dXMNF_0rtji9",
    "cell_id": "00006-07d77e14-4c75-4130-a9f9-ca8b87419ddd",
    "deepnote_app_coordinates": {
     "x": 0,
     "y": 37,
     "w": 12,
     "h": 5
    },
    "deepnote_cell_type": "code",
    "deepnote_cell_height": 61
   },
   "source": "df.to_csv(\"/content/dataset.txt\", index=False)",
   "execution_count": null,
   "outputs": []
  },
  {
   "cell_type": "markdown",
   "source": "### 2nd dataset (Urdu roman.tsv)",
   "metadata": {
    "id": "3F_pJ8q9Idjp",
    "cell_id": "00007-f704ab03-7c2f-4f25-8393-83f88dbd942e",
    "deepnote_app_coordinates": {
     "x": 0,
     "y": 43,
     "w": 12,
     "h": 5
    },
    "deepnote_cell_type": "markdown",
    "deepnote_cell_height": 62
   }
  },
  {
   "cell_type": "code",
   "metadata": {
    "id": "y56FPUiBtxHN",
    "cell_id": "00008-1f280504-6427-4c4d-8262-42abe6980e67",
    "deepnote_app_coordinates": {
     "x": 0,
     "y": 49,
     "w": 12,
     "h": 5
    },
    "deepnote_cell_type": "code",
    "deepnote_cell_height": 61
   },
   "source": "df1 = pd.read_csv(\"urdu roman.tsv\", sep = \"\\t\")",
   "execution_count": null,
   "outputs": []
  },
  {
   "cell_type": "code",
   "metadata": {
    "colab": {
     "base_uri": "https://localhost:8080/",
     "height": 206
    },
    "id": "gt_cOGyXIYIK",
    "outputId": "61fe9c55-da00-4ce3-e897-16f58453d32e",
    "cell_id": "00009-1b2f3f4a-cc1f-4e34-a7de-e91666deca21",
    "deepnote_app_coordinates": {
     "x": 0,
     "y": 55,
     "w": 12,
     "h": 5
    },
    "deepnote_cell_type": "code",
    "deepnote_cell_height": 269,
    "deepnote_output_heights": [
     177
    ]
   },
   "source": "df1.head()",
   "execution_count": null,
   "outputs": [
    {
     "output_type": "execute_result",
     "data": {
      "text/plain": "      Urdu Roman-Urdu  Ur—Rom Confidence Score  English  \\\n0  لاڑکانا    larkana                     1.00  larkana   \n1     ٹيرن       turn                     1.00     turn   \n2    جوﻻٔي       july                     0.75     july   \n3     انفو       info                     1.00   espnhs   \n4     چیکو    chekoo5                     1.00      mek   \n\n   Ur-En Confidence Score  \n0                   1.000  \n1                   1.000  \n2                   0.935  \n3                   0.520  \n4                   0.500  ",
      "text/html": "\n  <div id=\"df-bf50a1f1-ee8d-4a8c-bd6b-dc567af143ce\">\n    <div class=\"colab-df-container\">\n      <div>\n<style scoped>\n    .dataframe tbody tr th:only-of-type {\n        vertical-align: middle;\n    }\n\n    .dataframe tbody tr th {\n        vertical-align: top;\n    }\n\n    .dataframe thead th {\n        text-align: right;\n    }\n</style>\n<table border=\"1\" class=\"dataframe\">\n  <thead>\n    <tr style=\"text-align: right;\">\n      <th></th>\n      <th>Urdu</th>\n      <th>Roman-Urdu</th>\n      <th>Ur—Rom Confidence Score</th>\n      <th>English</th>\n      <th>Ur-En Confidence Score</th>\n    </tr>\n  </thead>\n  <tbody>\n    <tr>\n      <th>0</th>\n      <td>لاڑکانا</td>\n      <td>larkana</td>\n      <td>1.00</td>\n      <td>larkana</td>\n      <td>1.000</td>\n    </tr>\n    <tr>\n      <th>1</th>\n      <td>ٹيرن</td>\n      <td>turn</td>\n      <td>1.00</td>\n      <td>turn</td>\n      <td>1.000</td>\n    </tr>\n    <tr>\n      <th>2</th>\n      <td>جوﻻٔي</td>\n      <td>july</td>\n      <td>0.75</td>\n      <td>july</td>\n      <td>0.935</td>\n    </tr>\n    <tr>\n      <th>3</th>\n      <td>انفو</td>\n      <td>info</td>\n      <td>1.00</td>\n      <td>espnhs</td>\n      <td>0.520</td>\n    </tr>\n    <tr>\n      <th>4</th>\n      <td>چیکو</td>\n      <td>chekoo5</td>\n      <td>1.00</td>\n      <td>mek</td>\n      <td>0.500</td>\n    </tr>\n  </tbody>\n</table>\n</div>\n      <button class=\"colab-df-convert\" onclick=\"convertToInteractive('df-bf50a1f1-ee8d-4a8c-bd6b-dc567af143ce')\"\n              title=\"Convert this dataframe to an interactive table.\"\n              style=\"display:none;\">\n        \n  <svg xmlns=\"http://www.w3.org/2000/svg\" height=\"24px\"viewBox=\"0 0 24 24\"\n       width=\"24px\">\n    <path d=\"M0 0h24v24H0V0z\" fill=\"none\"/>\n    <path d=\"M18.56 5.44l.94 2.06.94-2.06 2.06-.94-2.06-.94-.94-2.06-.94 2.06-2.06.94zm-11 1L8.5 8.5l.94-2.06 2.06-.94-2.06-.94L8.5 2.5l-.94 2.06-2.06.94zm10 10l.94 2.06.94-2.06 2.06-.94-2.06-.94-.94-2.06-.94 2.06-2.06.94z\"/><path d=\"M17.41 7.96l-1.37-1.37c-.4-.4-.92-.59-1.43-.59-.52 0-1.04.2-1.43.59L10.3 9.45l-7.72 7.72c-.78.78-.78 2.05 0 2.83L4 21.41c.39.39.9.59 1.41.59.51 0 1.02-.2 1.41-.59l7.78-7.78 2.81-2.81c.8-.78.8-2.07 0-2.86zM5.41 20L4 18.59l7.72-7.72 1.47 1.35L5.41 20z\"/>\n  </svg>\n      </button>\n      \n  <style>\n    .colab-df-container {\n      display:flex;\n      flex-wrap:wrap;\n      gap: 12px;\n    }\n\n    .colab-df-convert {\n      background-color: #E8F0FE;\n      border: none;\n      border-radius: 50%;\n      cursor: pointer;\n      display: none;\n      fill: #1967D2;\n      height: 32px;\n      padding: 0 0 0 0;\n      width: 32px;\n    }\n\n    .colab-df-convert:hover {\n      background-color: #E2EBFA;\n      box-shadow: 0px 1px 2px rgba(60, 64, 67, 0.3), 0px 1px 3px 1px rgba(60, 64, 67, 0.15);\n      fill: #174EA6;\n    }\n\n    [theme=dark] .colab-df-convert {\n      background-color: #3B4455;\n      fill: #D2E3FC;\n    }\n\n    [theme=dark] .colab-df-convert:hover {\n      background-color: #434B5C;\n      box-shadow: 0px 1px 3px 1px rgba(0, 0, 0, 0.15);\n      filter: drop-shadow(0px 1px 2px rgba(0, 0, 0, 0.3));\n      fill: #FFFFFF;\n    }\n  </style>\n\n      <script>\n        const buttonEl =\n          document.querySelector('#df-bf50a1f1-ee8d-4a8c-bd6b-dc567af143ce button.colab-df-convert');\n        buttonEl.style.display =\n          google.colab.kernel.accessAllowed ? 'block' : 'none';\n\n        async function convertToInteractive(key) {\n          const element = document.querySelector('#df-bf50a1f1-ee8d-4a8c-bd6b-dc567af143ce');\n          const dataTable =\n            await google.colab.kernel.invokeFunction('convertToInteractive',\n                                                     [key], {});\n          if (!dataTable) return;\n\n          const docLinkHtml = 'Like what you see? Visit the ' +\n            '<a target=\"_blank\" href=https://colab.research.google.com/notebooks/data_table.ipynb>data table notebook</a>'\n            + ' to learn more about interactive tables.';\n          element.innerHTML = '';\n          dataTable['output_type'] = 'display_data';\n          await google.colab.output.renderOutput(dataTable, element);\n          const docLink = document.createElement('div');\n          docLink.innerHTML = docLinkHtml;\n          element.appendChild(docLink);\n        }\n      </script>\n    </div>\n  </div>\n  "
     },
     "metadata": {},
     "execution_count": 8
    }
   ]
  },
  {
   "cell_type": "code",
   "metadata": {
    "id": "vvRzvEeJJggU",
    "cell_id": "00010-53176b5c-72c0-4a52-8b0f-15ae3398a026",
    "deepnote_app_coordinates": {
     "x": 0,
     "y": 61,
     "w": 12,
     "h": 5
    },
    "deepnote_cell_type": "code",
    "deepnote_cell_height": 61
   },
   "source": "df1.drop(columns=['Ur—Rom Confidence Score', 'English', 'Ur-En Confidence Score'], inplace=True)",
   "execution_count": null,
   "outputs": []
  },
  {
   "cell_type": "code",
   "metadata": {
    "colab": {
     "base_uri": "https://localhost:8080/",
     "height": 424
    },
    "id": "JHEgqvVqLFGc",
    "outputId": "bc459802-49d4-4da0-cd7c-e853b10d7608",
    "cell_id": "00011-839cfa4b-5540-4997-91d8-4344fbbf1ffc",
    "deepnote_app_coordinates": {
     "x": 0,
     "y": 67,
     "w": 12,
     "h": 5
    },
    "deepnote_cell_type": "code",
    "deepnote_cell_height": 474.1875,
    "deepnote_output_heights": [
     382.1875
    ]
   },
   "source": "df1",
   "execution_count": null,
   "outputs": [
    {
     "output_type": "execute_result",
     "data": {
      "text/plain": "         Urdu Roman-Urdu\n0     لاڑکانا    larkana\n1        ٹيرن       turn\n2       جوﻻٔي       july\n3        انفو       info\n4        چیکو    chekoo5\n...       ...        ...\n4102     سبھا      subha\n4103     گندا       gnda\n4104     صلاح      sulah\n4105    فرحان     farhan\n4106      ایا        aya\n\n[4107 rows x 2 columns]",
      "text/html": "\n  <div id=\"df-c85090d0-039b-4727-bd20-2ad3b0ea585e\">\n    <div class=\"colab-df-container\">\n      <div>\n<style scoped>\n    .dataframe tbody tr th:only-of-type {\n        vertical-align: middle;\n    }\n\n    .dataframe tbody tr th {\n        vertical-align: top;\n    }\n\n    .dataframe thead th {\n        text-align: right;\n    }\n</style>\n<table border=\"1\" class=\"dataframe\">\n  <thead>\n    <tr style=\"text-align: right;\">\n      <th></th>\n      <th>Urdu</th>\n      <th>Roman-Urdu</th>\n    </tr>\n  </thead>\n  <tbody>\n    <tr>\n      <th>0</th>\n      <td>لاڑکانا</td>\n      <td>larkana</td>\n    </tr>\n    <tr>\n      <th>1</th>\n      <td>ٹيرن</td>\n      <td>turn</td>\n    </tr>\n    <tr>\n      <th>2</th>\n      <td>جوﻻٔي</td>\n      <td>july</td>\n    </tr>\n    <tr>\n      <th>3</th>\n      <td>انفو</td>\n      <td>info</td>\n    </tr>\n    <tr>\n      <th>4</th>\n      <td>چیکو</td>\n      <td>chekoo5</td>\n    </tr>\n    <tr>\n      <th>...</th>\n      <td>...</td>\n      <td>...</td>\n    </tr>\n    <tr>\n      <th>4102</th>\n      <td>سبھا</td>\n      <td>subha</td>\n    </tr>\n    <tr>\n      <th>4103</th>\n      <td>گندا</td>\n      <td>gnda</td>\n    </tr>\n    <tr>\n      <th>4104</th>\n      <td>صلاح</td>\n      <td>sulah</td>\n    </tr>\n    <tr>\n      <th>4105</th>\n      <td>فرحان</td>\n      <td>farhan</td>\n    </tr>\n    <tr>\n      <th>4106</th>\n      <td>ایا</td>\n      <td>aya</td>\n    </tr>\n  </tbody>\n</table>\n<p>4107 rows × 2 columns</p>\n</div>\n      <button class=\"colab-df-convert\" onclick=\"convertToInteractive('df-c85090d0-039b-4727-bd20-2ad3b0ea585e')\"\n              title=\"Convert this dataframe to an interactive table.\"\n              style=\"display:none;\">\n        \n  <svg xmlns=\"http://www.w3.org/2000/svg\" height=\"24px\"viewBox=\"0 0 24 24\"\n       width=\"24px\">\n    <path d=\"M0 0h24v24H0V0z\" fill=\"none\"/>\n    <path d=\"M18.56 5.44l.94 2.06.94-2.06 2.06-.94-2.06-.94-.94-2.06-.94 2.06-2.06.94zm-11 1L8.5 8.5l.94-2.06 2.06-.94-2.06-.94L8.5 2.5l-.94 2.06-2.06.94zm10 10l.94 2.06.94-2.06 2.06-.94-2.06-.94-.94-2.06-.94 2.06-2.06.94z\"/><path d=\"M17.41 7.96l-1.37-1.37c-.4-.4-.92-.59-1.43-.59-.52 0-1.04.2-1.43.59L10.3 9.45l-7.72 7.72c-.78.78-.78 2.05 0 2.83L4 21.41c.39.39.9.59 1.41.59.51 0 1.02-.2 1.41-.59l7.78-7.78 2.81-2.81c.8-.78.8-2.07 0-2.86zM5.41 20L4 18.59l7.72-7.72 1.47 1.35L5.41 20z\"/>\n  </svg>\n      </button>\n      \n  <style>\n    .colab-df-container {\n      display:flex;\n      flex-wrap:wrap;\n      gap: 12px;\n    }\n\n    .colab-df-convert {\n      background-color: #E8F0FE;\n      border: none;\n      border-radius: 50%;\n      cursor: pointer;\n      display: none;\n      fill: #1967D2;\n      height: 32px;\n      padding: 0 0 0 0;\n      width: 32px;\n    }\n\n    .colab-df-convert:hover {\n      background-color: #E2EBFA;\n      box-shadow: 0px 1px 2px rgba(60, 64, 67, 0.3), 0px 1px 3px 1px rgba(60, 64, 67, 0.15);\n      fill: #174EA6;\n    }\n\n    [theme=dark] .colab-df-convert {\n      background-color: #3B4455;\n      fill: #D2E3FC;\n    }\n\n    [theme=dark] .colab-df-convert:hover {\n      background-color: #434B5C;\n      box-shadow: 0px 1px 3px 1px rgba(0, 0, 0, 0.15);\n      filter: drop-shadow(0px 1px 2px rgba(0, 0, 0, 0.3));\n      fill: #FFFFFF;\n    }\n  </style>\n\n      <script>\n        const buttonEl =\n          document.querySelector('#df-c85090d0-039b-4727-bd20-2ad3b0ea585e button.colab-df-convert');\n        buttonEl.style.display =\n          google.colab.kernel.accessAllowed ? 'block' : 'none';\n\n        async function convertToInteractive(key) {\n          const element = document.querySelector('#df-c85090d0-039b-4727-bd20-2ad3b0ea585e');\n          const dataTable =\n            await google.colab.kernel.invokeFunction('convertToInteractive',\n                                                     [key], {});\n          if (!dataTable) return;\n\n          const docLinkHtml = 'Like what you see? Visit the ' +\n            '<a target=\"_blank\" href=https://colab.research.google.com/notebooks/data_table.ipynb>data table notebook</a>'\n            + ' to learn more about interactive tables.';\n          element.innerHTML = '';\n          dataTable['output_type'] = 'display_data';\n          await google.colab.output.renderOutput(dataTable, element);\n          const docLink = document.createElement('div');\n          docLink.innerHTML = docLinkHtml;\n          element.appendChild(docLink);\n        }\n      </script>\n    </div>\n  </div>\n  "
     },
     "metadata": {},
     "execution_count": 10
    }
   ]
  },
  {
   "cell_type": "markdown",
   "source": "## Merging dataset 1 and dataset 2",
   "metadata": {
    "id": "-6s8DZL5SQyy",
    "cell_id": "00012-b237e7d3-b7de-4a52-b8b5-8171fa5e0f0d",
    "deepnote_app_coordinates": {
     "x": 0,
     "y": 73,
     "w": 12,
     "h": 5
    },
    "deepnote_cell_type": "markdown",
    "deepnote_cell_height": 70
   }
  },
  {
   "cell_type": "code",
   "metadata": {
    "id": "cBi5Re7vLGFk",
    "cell_id": "00013-f92e061f-bacc-4073-b36f-2564d1fccce3",
    "deepnote_app_coordinates": {
     "x": 0,
     "y": 79,
     "w": 12,
     "h": 5
    },
    "deepnote_cell_type": "code",
    "deepnote_cell_height": 79
   },
   "source": "data = [df, df1]\ndf_new = pd.concat(data)",
   "execution_count": null,
   "outputs": []
  },
  {
   "cell_type": "code",
   "metadata": {
    "id": "ONXjcl0NMV_Y",
    "cell_id": "00014-96170c55-6b04-4003-894a-c59bbc3623c3",
    "deepnote_app_coordinates": {
     "x": 0,
     "y": 85,
     "w": 12,
     "h": 5
    },
    "deepnote_cell_type": "code",
    "deepnote_cell_height": 61
   },
   "source": "df_new.to_csv(\"/content/dataset.txt\", index=False)",
   "execution_count": null,
   "outputs": []
  },
  {
   "cell_type": "markdown",
   "source": "## Dataset 3 (UrduHighFreqList.xlsx)\n\n",
   "metadata": {
    "id": "8C5IzsZhXrSt",
    "cell_id": "00015-0c475b6a-44b3-4d4c-969e-49a8b4934351",
    "deepnote_app_coordinates": {
     "x": 0,
     "y": 91,
     "w": 12,
     "h": 5
    },
    "deepnote_cell_type": "markdown",
    "deepnote_cell_height": 70
   }
  },
  {
   "cell_type": "code",
   "metadata": {
    "id": "5dksiCgkMZ9f",
    "cell_id": "00016-1b657b19-c07f-4e16-a950-697995807bf6",
    "deepnote_app_coordinates": {
     "x": 0,
     "y": 97,
     "w": 12,
     "h": 5
    },
    "deepnote_cell_type": "code",
    "deepnote_cell_height": 61
   },
   "source": "df2 = pd.read_excel(\"UrduHighFreqList.xlsx\", names=['Urdu', 'Frequency','Roman-Urdu'])",
   "execution_count": null,
   "outputs": []
  },
  {
   "cell_type": "code",
   "metadata": {
    "colab": {
     "base_uri": "https://localhost:8080/",
     "height": 206
    },
    "id": "-eO9VTmbZkZv",
    "outputId": "56b728cd-f22f-4444-f631-2305f143c70f",
    "cell_id": "00017-29a5c217-7ff2-4b57-8c05-6b44a7bd8bad",
    "deepnote_app_coordinates": {
     "x": 0,
     "y": 103,
     "w": 12,
     "h": 5
    },
    "deepnote_cell_type": "code",
    "deepnote_cell_height": 269,
    "deepnote_output_heights": [
     177
    ]
   },
   "source": "df2.head()",
   "execution_count": null,
   "outputs": [
    {
     "output_type": "execute_result",
     "data": {
      "text/plain": "  Urdu  Frequency Roman-Urdu\n0   ﮐﮯ     743949         KE\n1  ﻣﻴﮟ     582882        MYN\n2   ﮐﯽ     575545         KY\n3   ﮨﮯ     466908         HE\n4  اور     413788        AOR",
      "text/html": "\n  <div id=\"df-cc4ac897-6dc3-4281-920f-2e7c0c06c6df\">\n    <div class=\"colab-df-container\">\n      <div>\n<style scoped>\n    .dataframe tbody tr th:only-of-type {\n        vertical-align: middle;\n    }\n\n    .dataframe tbody tr th {\n        vertical-align: top;\n    }\n\n    .dataframe thead th {\n        text-align: right;\n    }\n</style>\n<table border=\"1\" class=\"dataframe\">\n  <thead>\n    <tr style=\"text-align: right;\">\n      <th></th>\n      <th>Urdu</th>\n      <th>Frequency</th>\n      <th>Roman-Urdu</th>\n    </tr>\n  </thead>\n  <tbody>\n    <tr>\n      <th>0</th>\n      <td>ﮐﮯ</td>\n      <td>743949</td>\n      <td>KE</td>\n    </tr>\n    <tr>\n      <th>1</th>\n      <td>ﻣﻴﮟ</td>\n      <td>582882</td>\n      <td>MYN</td>\n    </tr>\n    <tr>\n      <th>2</th>\n      <td>ﮐﯽ</td>\n      <td>575545</td>\n      <td>KY</td>\n    </tr>\n    <tr>\n      <th>3</th>\n      <td>ﮨﮯ</td>\n      <td>466908</td>\n      <td>HE</td>\n    </tr>\n    <tr>\n      <th>4</th>\n      <td>اور</td>\n      <td>413788</td>\n      <td>AOR</td>\n    </tr>\n  </tbody>\n</table>\n</div>\n      <button class=\"colab-df-convert\" onclick=\"convertToInteractive('df-cc4ac897-6dc3-4281-920f-2e7c0c06c6df')\"\n              title=\"Convert this dataframe to an interactive table.\"\n              style=\"display:none;\">\n        \n  <svg xmlns=\"http://www.w3.org/2000/svg\" height=\"24px\"viewBox=\"0 0 24 24\"\n       width=\"24px\">\n    <path d=\"M0 0h24v24H0V0z\" fill=\"none\"/>\n    <path d=\"M18.56 5.44l.94 2.06.94-2.06 2.06-.94-2.06-.94-.94-2.06-.94 2.06-2.06.94zm-11 1L8.5 8.5l.94-2.06 2.06-.94-2.06-.94L8.5 2.5l-.94 2.06-2.06.94zm10 10l.94 2.06.94-2.06 2.06-.94-2.06-.94-.94-2.06-.94 2.06-2.06.94z\"/><path d=\"M17.41 7.96l-1.37-1.37c-.4-.4-.92-.59-1.43-.59-.52 0-1.04.2-1.43.59L10.3 9.45l-7.72 7.72c-.78.78-.78 2.05 0 2.83L4 21.41c.39.39.9.59 1.41.59.51 0 1.02-.2 1.41-.59l7.78-7.78 2.81-2.81c.8-.78.8-2.07 0-2.86zM5.41 20L4 18.59l7.72-7.72 1.47 1.35L5.41 20z\"/>\n  </svg>\n      </button>\n      \n  <style>\n    .colab-df-container {\n      display:flex;\n      flex-wrap:wrap;\n      gap: 12px;\n    }\n\n    .colab-df-convert {\n      background-color: #E8F0FE;\n      border: none;\n      border-radius: 50%;\n      cursor: pointer;\n      display: none;\n      fill: #1967D2;\n      height: 32px;\n      padding: 0 0 0 0;\n      width: 32px;\n    }\n\n    .colab-df-convert:hover {\n      background-color: #E2EBFA;\n      box-shadow: 0px 1px 2px rgba(60, 64, 67, 0.3), 0px 1px 3px 1px rgba(60, 64, 67, 0.15);\n      fill: #174EA6;\n    }\n\n    [theme=dark] .colab-df-convert {\n      background-color: #3B4455;\n      fill: #D2E3FC;\n    }\n\n    [theme=dark] .colab-df-convert:hover {\n      background-color: #434B5C;\n      box-shadow: 0px 1px 3px 1px rgba(0, 0, 0, 0.15);\n      filter: drop-shadow(0px 1px 2px rgba(0, 0, 0, 0.3));\n      fill: #FFFFFF;\n    }\n  </style>\n\n      <script>\n        const buttonEl =\n          document.querySelector('#df-cc4ac897-6dc3-4281-920f-2e7c0c06c6df button.colab-df-convert');\n        buttonEl.style.display =\n          google.colab.kernel.accessAllowed ? 'block' : 'none';\n\n        async function convertToInteractive(key) {\n          const element = document.querySelector('#df-cc4ac897-6dc3-4281-920f-2e7c0c06c6df');\n          const dataTable =\n            await google.colab.kernel.invokeFunction('convertToInteractive',\n                                                     [key], {});\n          if (!dataTable) return;\n\n          const docLinkHtml = 'Like what you see? Visit the ' +\n            '<a target=\"_blank\" href=https://colab.research.google.com/notebooks/data_table.ipynb>data table notebook</a>'\n            + ' to learn more about interactive tables.';\n          element.innerHTML = '';\n          dataTable['output_type'] = 'display_data';\n          await google.colab.output.renderOutput(dataTable, element);\n          const docLink = document.createElement('div');\n          docLink.innerHTML = docLinkHtml;\n          element.appendChild(docLink);\n        }\n      </script>\n    </div>\n  </div>\n  "
     },
     "metadata": {},
     "execution_count": 14
    }
   ]
  },
  {
   "cell_type": "code",
   "metadata": {
    "id": "pjNftvbJZuBu",
    "cell_id": "00018-205e242f-0a25-49af-a8ed-760f7e055418",
    "deepnote_app_coordinates": {
     "x": 0,
     "y": 109,
     "w": 12,
     "h": 5
    },
    "deepnote_cell_type": "code",
    "deepnote_cell_height": 61
   },
   "source": "df2.drop(columns=['Frequency'], inplace=True)",
   "execution_count": null,
   "outputs": []
  },
  {
   "cell_type": "code",
   "metadata": {
    "colab": {
     "base_uri": "https://localhost:8080/",
     "height": 206
    },
    "id": "VGpUB88xafFt",
    "outputId": "266f7fa1-9f49-4de3-a062-11990185d3d9",
    "cell_id": "00019-f35335e5-b4e1-4ec6-9d99-87201a899fdc",
    "deepnote_app_coordinates": {
     "x": 0,
     "y": 115,
     "w": 12,
     "h": 5
    },
    "deepnote_cell_type": "code",
    "deepnote_cell_height": 269,
    "deepnote_output_heights": [
     177
    ]
   },
   "source": "df2.head()",
   "execution_count": null,
   "outputs": [
    {
     "output_type": "execute_result",
     "data": {
      "text/plain": "  Urdu Roman-Urdu\n0   ﮐﮯ         KE\n1  ﻣﻴﮟ        MYN\n2   ﮐﯽ         KY\n3   ﮨﮯ         HE\n4  اور        AOR",
      "text/html": "\n  <div id=\"df-c654d839-c887-4172-ba00-cff364666a71\">\n    <div class=\"colab-df-container\">\n      <div>\n<style scoped>\n    .dataframe tbody tr th:only-of-type {\n        vertical-align: middle;\n    }\n\n    .dataframe tbody tr th {\n        vertical-align: top;\n    }\n\n    .dataframe thead th {\n        text-align: right;\n    }\n</style>\n<table border=\"1\" class=\"dataframe\">\n  <thead>\n    <tr style=\"text-align: right;\">\n      <th></th>\n      <th>Urdu</th>\n      <th>Roman-Urdu</th>\n    </tr>\n  </thead>\n  <tbody>\n    <tr>\n      <th>0</th>\n      <td>ﮐﮯ</td>\n      <td>KE</td>\n    </tr>\n    <tr>\n      <th>1</th>\n      <td>ﻣﻴﮟ</td>\n      <td>MYN</td>\n    </tr>\n    <tr>\n      <th>2</th>\n      <td>ﮐﯽ</td>\n      <td>KY</td>\n    </tr>\n    <tr>\n      <th>3</th>\n      <td>ﮨﮯ</td>\n      <td>HE</td>\n    </tr>\n    <tr>\n      <th>4</th>\n      <td>اور</td>\n      <td>AOR</td>\n    </tr>\n  </tbody>\n</table>\n</div>\n      <button class=\"colab-df-convert\" onclick=\"convertToInteractive('df-c654d839-c887-4172-ba00-cff364666a71')\"\n              title=\"Convert this dataframe to an interactive table.\"\n              style=\"display:none;\">\n        \n  <svg xmlns=\"http://www.w3.org/2000/svg\" height=\"24px\"viewBox=\"0 0 24 24\"\n       width=\"24px\">\n    <path d=\"M0 0h24v24H0V0z\" fill=\"none\"/>\n    <path d=\"M18.56 5.44l.94 2.06.94-2.06 2.06-.94-2.06-.94-.94-2.06-.94 2.06-2.06.94zm-11 1L8.5 8.5l.94-2.06 2.06-.94-2.06-.94L8.5 2.5l-.94 2.06-2.06.94zm10 10l.94 2.06.94-2.06 2.06-.94-2.06-.94-.94-2.06-.94 2.06-2.06.94z\"/><path d=\"M17.41 7.96l-1.37-1.37c-.4-.4-.92-.59-1.43-.59-.52 0-1.04.2-1.43.59L10.3 9.45l-7.72 7.72c-.78.78-.78 2.05 0 2.83L4 21.41c.39.39.9.59 1.41.59.51 0 1.02-.2 1.41-.59l7.78-7.78 2.81-2.81c.8-.78.8-2.07 0-2.86zM5.41 20L4 18.59l7.72-7.72 1.47 1.35L5.41 20z\"/>\n  </svg>\n      </button>\n      \n  <style>\n    .colab-df-container {\n      display:flex;\n      flex-wrap:wrap;\n      gap: 12px;\n    }\n\n    .colab-df-convert {\n      background-color: #E8F0FE;\n      border: none;\n      border-radius: 50%;\n      cursor: pointer;\n      display: none;\n      fill: #1967D2;\n      height: 32px;\n      padding: 0 0 0 0;\n      width: 32px;\n    }\n\n    .colab-df-convert:hover {\n      background-color: #E2EBFA;\n      box-shadow: 0px 1px 2px rgba(60, 64, 67, 0.3), 0px 1px 3px 1px rgba(60, 64, 67, 0.15);\n      fill: #174EA6;\n    }\n\n    [theme=dark] .colab-df-convert {\n      background-color: #3B4455;\n      fill: #D2E3FC;\n    }\n\n    [theme=dark] .colab-df-convert:hover {\n      background-color: #434B5C;\n      box-shadow: 0px 1px 3px 1px rgba(0, 0, 0, 0.15);\n      filter: drop-shadow(0px 1px 2px rgba(0, 0, 0, 0.3));\n      fill: #FFFFFF;\n    }\n  </style>\n\n      <script>\n        const buttonEl =\n          document.querySelector('#df-c654d839-c887-4172-ba00-cff364666a71 button.colab-df-convert');\n        buttonEl.style.display =\n          google.colab.kernel.accessAllowed ? 'block' : 'none';\n\n        async function convertToInteractive(key) {\n          const element = document.querySelector('#df-c654d839-c887-4172-ba00-cff364666a71');\n          const dataTable =\n            await google.colab.kernel.invokeFunction('convertToInteractive',\n                                                     [key], {});\n          if (!dataTable) return;\n\n          const docLinkHtml = 'Like what you see? Visit the ' +\n            '<a target=\"_blank\" href=https://colab.research.google.com/notebooks/data_table.ipynb>data table notebook</a>'\n            + ' to learn more about interactive tables.';\n          element.innerHTML = '';\n          dataTable['output_type'] = 'display_data';\n          await google.colab.output.renderOutput(dataTable, element);\n          const docLink = document.createElement('div');\n          docLink.innerHTML = docLinkHtml;\n          element.appendChild(docLink);\n        }\n      </script>\n    </div>\n  </div>\n  "
     },
     "metadata": {},
     "execution_count": 16
    }
   ]
  },
  {
   "cell_type": "markdown",
   "source": "## Merging Dataset 1, 2 and 3",
   "metadata": {
    "id": "rgm9DmvFb8IF",
    "cell_id": "00020-139cc64f-9e86-4d11-9c43-93a63c8eccd6",
    "deepnote_app_coordinates": {
     "x": 0,
     "y": 121,
     "w": 12,
     "h": 5
    },
    "deepnote_cell_type": "markdown",
    "deepnote_cell_height": 70
   }
  },
  {
   "cell_type": "code",
   "metadata": {
    "id": "MH38PlM3auWF",
    "cell_id": "00021-07efb9bf-a4b5-429a-b55d-21ca1abeee19",
    "deepnote_app_coordinates": {
     "x": 0,
     "y": 127,
     "w": 12,
     "h": 5
    },
    "deepnote_cell_type": "code",
    "deepnote_cell_height": 79
   },
   "source": "data_1 = [df_new, df2]\ndf_new1 = pd.concat(data_1)",
   "execution_count": null,
   "outputs": []
  },
  {
   "cell_type": "code",
   "metadata": {
    "colab": {
     "base_uri": "https://localhost:8080/",
     "height": 424
    },
    "id": "_XIcoDM6bb08",
    "outputId": "a6d094b0-18a0-44b3-a03c-c4abbed2efc7",
    "cell_id": "00022-0f87eb56-3d75-44d5-8688-4f5d1297ebd7",
    "deepnote_app_coordinates": {
     "x": 0,
     "y": 133,
     "w": 12,
     "h": 5
    },
    "deepnote_cell_type": "code",
    "deepnote_cell_height": 474.1875,
    "deepnote_output_heights": [
     382.1875
    ]
   },
   "source": "df_new1",
   "execution_count": null,
   "outputs": [
    {
     "output_type": "execute_result",
     "data": {
      "text/plain": "        Urdu Roman-Urdu\n0       خبر      khabar\n1      آباد      aabaad\n2      آبرو       aabru\n3        آپ         aap\n4      آداب      aadaab\n...      ...        ...\n4994     روٹ        ROT\n4995    ﺳﻠﻮر       SLOR\n4996    ﻓﺮﯾﻢ       FRYM\n4997    ﮐﻬﻮﻻ      KHOLA\n4998    ﻧﻮاح       NOAH\n\n[9595 rows x 2 columns]",
      "text/html": "\n  <div id=\"df-c1354e14-8e61-46fb-8821-f0a8c51176e2\">\n    <div class=\"colab-df-container\">\n      <div>\n<style scoped>\n    .dataframe tbody tr th:only-of-type {\n        vertical-align: middle;\n    }\n\n    .dataframe tbody tr th {\n        vertical-align: top;\n    }\n\n    .dataframe thead th {\n        text-align: right;\n    }\n</style>\n<table border=\"1\" class=\"dataframe\">\n  <thead>\n    <tr style=\"text-align: right;\">\n      <th></th>\n      <th>Urdu</th>\n      <th>Roman-Urdu</th>\n    </tr>\n  </thead>\n  <tbody>\n    <tr>\n      <th>0</th>\n      <td>خبر</td>\n      <td>khabar</td>\n    </tr>\n    <tr>\n      <th>1</th>\n      <td>آباد</td>\n      <td>aabaad</td>\n    </tr>\n    <tr>\n      <th>2</th>\n      <td>آبرو</td>\n      <td>aabru</td>\n    </tr>\n    <tr>\n      <th>3</th>\n      <td>آپ</td>\n      <td>aap</td>\n    </tr>\n    <tr>\n      <th>4</th>\n      <td>آداب</td>\n      <td>aadaab</td>\n    </tr>\n    <tr>\n      <th>...</th>\n      <td>...</td>\n      <td>...</td>\n    </tr>\n    <tr>\n      <th>4994</th>\n      <td>روٹ</td>\n      <td>ROT</td>\n    </tr>\n    <tr>\n      <th>4995</th>\n      <td>ﺳﻠﻮر</td>\n      <td>SLOR</td>\n    </tr>\n    <tr>\n      <th>4996</th>\n      <td>ﻓﺮﯾﻢ</td>\n      <td>FRYM</td>\n    </tr>\n    <tr>\n      <th>4997</th>\n      <td>ﮐﻬﻮﻻ</td>\n      <td>KHOLA</td>\n    </tr>\n    <tr>\n      <th>4998</th>\n      <td>ﻧﻮاح</td>\n      <td>NOAH</td>\n    </tr>\n  </tbody>\n</table>\n<p>9595 rows × 2 columns</p>\n</div>\n      <button class=\"colab-df-convert\" onclick=\"convertToInteractive('df-c1354e14-8e61-46fb-8821-f0a8c51176e2')\"\n              title=\"Convert this dataframe to an interactive table.\"\n              style=\"display:none;\">\n        \n  <svg xmlns=\"http://www.w3.org/2000/svg\" height=\"24px\"viewBox=\"0 0 24 24\"\n       width=\"24px\">\n    <path d=\"M0 0h24v24H0V0z\" fill=\"none\"/>\n    <path d=\"M18.56 5.44l.94 2.06.94-2.06 2.06-.94-2.06-.94-.94-2.06-.94 2.06-2.06.94zm-11 1L8.5 8.5l.94-2.06 2.06-.94-2.06-.94L8.5 2.5l-.94 2.06-2.06.94zm10 10l.94 2.06.94-2.06 2.06-.94-2.06-.94-.94-2.06-.94 2.06-2.06.94z\"/><path d=\"M17.41 7.96l-1.37-1.37c-.4-.4-.92-.59-1.43-.59-.52 0-1.04.2-1.43.59L10.3 9.45l-7.72 7.72c-.78.78-.78 2.05 0 2.83L4 21.41c.39.39.9.59 1.41.59.51 0 1.02-.2 1.41-.59l7.78-7.78 2.81-2.81c.8-.78.8-2.07 0-2.86zM5.41 20L4 18.59l7.72-7.72 1.47 1.35L5.41 20z\"/>\n  </svg>\n      </button>\n      \n  <style>\n    .colab-df-container {\n      display:flex;\n      flex-wrap:wrap;\n      gap: 12px;\n    }\n\n    .colab-df-convert {\n      background-color: #E8F0FE;\n      border: none;\n      border-radius: 50%;\n      cursor: pointer;\n      display: none;\n      fill: #1967D2;\n      height: 32px;\n      padding: 0 0 0 0;\n      width: 32px;\n    }\n\n    .colab-df-convert:hover {\n      background-color: #E2EBFA;\n      box-shadow: 0px 1px 2px rgba(60, 64, 67, 0.3), 0px 1px 3px 1px rgba(60, 64, 67, 0.15);\n      fill: #174EA6;\n    }\n\n    [theme=dark] .colab-df-convert {\n      background-color: #3B4455;\n      fill: #D2E3FC;\n    }\n\n    [theme=dark] .colab-df-convert:hover {\n      background-color: #434B5C;\n      box-shadow: 0px 1px 3px 1px rgba(0, 0, 0, 0.15);\n      filter: drop-shadow(0px 1px 2px rgba(0, 0, 0, 0.3));\n      fill: #FFFFFF;\n    }\n  </style>\n\n      <script>\n        const buttonEl =\n          document.querySelector('#df-c1354e14-8e61-46fb-8821-f0a8c51176e2 button.colab-df-convert');\n        buttonEl.style.display =\n          google.colab.kernel.accessAllowed ? 'block' : 'none';\n\n        async function convertToInteractive(key) {\n          const element = document.querySelector('#df-c1354e14-8e61-46fb-8821-f0a8c51176e2');\n          const dataTable =\n            await google.colab.kernel.invokeFunction('convertToInteractive',\n                                                     [key], {});\n          if (!dataTable) return;\n\n          const docLinkHtml = 'Like what you see? Visit the ' +\n            '<a target=\"_blank\" href=https://colab.research.google.com/notebooks/data_table.ipynb>data table notebook</a>'\n            + ' to learn more about interactive tables.';\n          element.innerHTML = '';\n          dataTable['output_type'] = 'display_data';\n          await google.colab.output.renderOutput(dataTable, element);\n          const docLink = document.createElement('div');\n          docLink.innerHTML = docLinkHtml;\n          element.appendChild(docLink);\n        }\n      </script>\n    </div>\n  </div>\n  "
     },
     "metadata": {},
     "execution_count": 18
    }
   ]
  },
  {
   "cell_type": "code",
   "metadata": {
    "id": "enpYHTJKbfP7",
    "cell_id": "00023-159aa383-de7c-47af-84df-fc0776ce4923",
    "deepnote_app_coordinates": {
     "x": 0,
     "y": 139,
     "w": 12,
     "h": 5
    },
    "deepnote_cell_type": "code",
    "deepnote_cell_height": 61
   },
   "source": "df_new1.to_csv(\"/content/dataset.txt\", index=False)",
   "execution_count": null,
   "outputs": []
  },
  {
   "cell_type": "markdown",
   "source": "## Dataset 4 (pos.txt)",
   "metadata": {
    "id": "7Kkh4CkkHDHg",
    "cell_id": "00024-996369f0-c3b9-4b18-96b6-6f5ccb95b1d0",
    "deepnote_app_coordinates": {
     "x": 0,
     "y": 145,
     "w": 12,
     "h": 5
    },
    "deepnote_cell_type": "markdown",
    "deepnote_cell_height": 70
   }
  },
  {
   "cell_type": "code",
   "metadata": {
    "id": "fVhiBXQ-btub",
    "cell_id": "00025-1023899a-50f0-490a-a0e6-c5727521b899",
    "deepnote_app_coordinates": {
     "x": 0,
     "y": 151,
     "w": 12,
     "h": 5
    },
    "deepnote_cell_type": "code",
    "deepnote_cell_height": 61
   },
   "source": "df_pos = pd.read_csv(\"pos.txt\", sep = \":\", names=['English', 'Roman-Urdu', 'Frequency'])",
   "execution_count": null,
   "outputs": []
  },
  {
   "cell_type": "code",
   "metadata": {
    "colab": {
     "base_uri": "https://localhost:8080/",
     "height": 424
    },
    "id": "VbxJapNFHRFW",
    "outputId": "5453c9df-ed17-4921-aa60-c05c34bc7b8e",
    "cell_id": "00026-afaa5661-3889-48a9-b856-8412f8366c8e",
    "deepnote_app_coordinates": {
     "x": 0,
     "y": 157,
     "w": 12,
     "h": 5
    },
    "deepnote_cell_type": "code",
    "deepnote_cell_height": 492.1875,
    "deepnote_output_heights": [
     382.1875
    ]
   },
   "source": "df_pos = df_pos.iloc[1: , :]\ndf_pos",
   "execution_count": null,
   "outputs": [
    {
     "output_type": "execute_result",
     "data": {
      "text/plain": "          English   Roman-Urdu Frequency\n1          abound       bharay        NN\n2         abounds     zayad-ti       NNS\n3       abundance       kasrat        NN\n4        abundant         پرچر        NN\n5      accessable   accessable        JJ\n...           ...          ...       ...\n1986          wow          wah        xx\n1987       tiding  baha lejana        xx\n1988  good habits      khubiya        xx\n1989       advise      hidayat        xx\n1990        mercy        reham        xx\n\n[1990 rows x 3 columns]",
      "text/html": "\n  <div id=\"df-d542dc7d-74f6-4ef4-a039-ac1d25b0053d\">\n    <div class=\"colab-df-container\">\n      <div>\n<style scoped>\n    .dataframe tbody tr th:only-of-type {\n        vertical-align: middle;\n    }\n\n    .dataframe tbody tr th {\n        vertical-align: top;\n    }\n\n    .dataframe thead th {\n        text-align: right;\n    }\n</style>\n<table border=\"1\" class=\"dataframe\">\n  <thead>\n    <tr style=\"text-align: right;\">\n      <th></th>\n      <th>English</th>\n      <th>Roman-Urdu</th>\n      <th>Frequency</th>\n    </tr>\n  </thead>\n  <tbody>\n    <tr>\n      <th>1</th>\n      <td>abound</td>\n      <td>bharay</td>\n      <td>NN</td>\n    </tr>\n    <tr>\n      <th>2</th>\n      <td>abounds</td>\n      <td>zayad-ti</td>\n      <td>NNS</td>\n    </tr>\n    <tr>\n      <th>3</th>\n      <td>abundance</td>\n      <td>kasrat</td>\n      <td>NN</td>\n    </tr>\n    <tr>\n      <th>4</th>\n      <td>abundant</td>\n      <td>پرچر</td>\n      <td>NN</td>\n    </tr>\n    <tr>\n      <th>5</th>\n      <td>accessable</td>\n      <td>accessable</td>\n      <td>JJ</td>\n    </tr>\n    <tr>\n      <th>...</th>\n      <td>...</td>\n      <td>...</td>\n      <td>...</td>\n    </tr>\n    <tr>\n      <th>1986</th>\n      <td>wow</td>\n      <td>wah</td>\n      <td>xx</td>\n    </tr>\n    <tr>\n      <th>1987</th>\n      <td>tiding</td>\n      <td>baha lejana</td>\n      <td>xx</td>\n    </tr>\n    <tr>\n      <th>1988</th>\n      <td>good habits</td>\n      <td>khubiya</td>\n      <td>xx</td>\n    </tr>\n    <tr>\n      <th>1989</th>\n      <td>advise</td>\n      <td>hidayat</td>\n      <td>xx</td>\n    </tr>\n    <tr>\n      <th>1990</th>\n      <td>mercy</td>\n      <td>reham</td>\n      <td>xx</td>\n    </tr>\n  </tbody>\n</table>\n<p>1990 rows × 3 columns</p>\n</div>\n      <button class=\"colab-df-convert\" onclick=\"convertToInteractive('df-d542dc7d-74f6-4ef4-a039-ac1d25b0053d')\"\n              title=\"Convert this dataframe to an interactive table.\"\n              style=\"display:none;\">\n        \n  <svg xmlns=\"http://www.w3.org/2000/svg\" height=\"24px\"viewBox=\"0 0 24 24\"\n       width=\"24px\">\n    <path d=\"M0 0h24v24H0V0z\" fill=\"none\"/>\n    <path d=\"M18.56 5.44l.94 2.06.94-2.06 2.06-.94-2.06-.94-.94-2.06-.94 2.06-2.06.94zm-11 1L8.5 8.5l.94-2.06 2.06-.94-2.06-.94L8.5 2.5l-.94 2.06-2.06.94zm10 10l.94 2.06.94-2.06 2.06-.94-2.06-.94-.94-2.06-.94 2.06-2.06.94z\"/><path d=\"M17.41 7.96l-1.37-1.37c-.4-.4-.92-.59-1.43-.59-.52 0-1.04.2-1.43.59L10.3 9.45l-7.72 7.72c-.78.78-.78 2.05 0 2.83L4 21.41c.39.39.9.59 1.41.59.51 0 1.02-.2 1.41-.59l7.78-7.78 2.81-2.81c.8-.78.8-2.07 0-2.86zM5.41 20L4 18.59l7.72-7.72 1.47 1.35L5.41 20z\"/>\n  </svg>\n      </button>\n      \n  <style>\n    .colab-df-container {\n      display:flex;\n      flex-wrap:wrap;\n      gap: 12px;\n    }\n\n    .colab-df-convert {\n      background-color: #E8F0FE;\n      border: none;\n      border-radius: 50%;\n      cursor: pointer;\n      display: none;\n      fill: #1967D2;\n      height: 32px;\n      padding: 0 0 0 0;\n      width: 32px;\n    }\n\n    .colab-df-convert:hover {\n      background-color: #E2EBFA;\n      box-shadow: 0px 1px 2px rgba(60, 64, 67, 0.3), 0px 1px 3px 1px rgba(60, 64, 67, 0.15);\n      fill: #174EA6;\n    }\n\n    [theme=dark] .colab-df-convert {\n      background-color: #3B4455;\n      fill: #D2E3FC;\n    }\n\n    [theme=dark] .colab-df-convert:hover {\n      background-color: #434B5C;\n      box-shadow: 0px 1px 3px 1px rgba(0, 0, 0, 0.15);\n      filter: drop-shadow(0px 1px 2px rgba(0, 0, 0, 0.3));\n      fill: #FFFFFF;\n    }\n  </style>\n\n      <script>\n        const buttonEl =\n          document.querySelector('#df-d542dc7d-74f6-4ef4-a039-ac1d25b0053d button.colab-df-convert');\n        buttonEl.style.display =\n          google.colab.kernel.accessAllowed ? 'block' : 'none';\n\n        async function convertToInteractive(key) {\n          const element = document.querySelector('#df-d542dc7d-74f6-4ef4-a039-ac1d25b0053d');\n          const dataTable =\n            await google.colab.kernel.invokeFunction('convertToInteractive',\n                                                     [key], {});\n          if (!dataTable) return;\n\n          const docLinkHtml = 'Like what you see? Visit the ' +\n            '<a target=\"_blank\" href=https://colab.research.google.com/notebooks/data_table.ipynb>data table notebook</a>'\n            + ' to learn more about interactive tables.';\n          element.innerHTML = '';\n          dataTable['output_type'] = 'display_data';\n          await google.colab.output.renderOutput(dataTable, element);\n          const docLink = document.createElement('div');\n          docLink.innerHTML = docLinkHtml;\n          element.appendChild(docLink);\n        }\n      </script>\n    </div>\n  </div>\n  "
     },
     "metadata": {},
     "execution_count": 21
    }
   ]
  },
  {
   "cell_type": "code",
   "metadata": {
    "id": "ZCt6yPzxHSld",
    "cell_id": "00027-d450c331-b0c5-484a-9b07-af2e3647b094",
    "deepnote_app_coordinates": {
     "x": 0,
     "y": 163,
     "w": 12,
     "h": 5
    },
    "deepnote_cell_type": "code",
    "deepnote_cell_height": 61
   },
   "source": "df_pos.drop(columns=['Frequency'], inplace=True)",
   "execution_count": null,
   "outputs": []
  },
  {
   "cell_type": "markdown",
   "source": "### Excluding rows from 'Roman-Urdu' column containg urdu words",
   "metadata": {
    "id": "b0X5YLUPJURb",
    "cell_id": "00028-decd008f-43cb-4b1e-9ad0-6e1ac41ddab3",
    "deepnote_app_coordinates": {
     "x": 0,
     "y": 169,
     "w": 12,
     "h": 5
    },
    "deepnote_cell_type": "markdown",
    "deepnote_cell_height": 62
   }
  },
  {
   "cell_type": "code",
   "metadata": {
    "colab": {
     "base_uri": "https://localhost:8080/",
     "height": 424
    },
    "id": "i1E9viapIQ59",
    "outputId": "2f958e7f-f7f8-43f9-a470-e775410a7b28",
    "cell_id": "00029-5dac39f9-3f68-47c8-8d04-5c65624b0414",
    "deepnote_app_coordinates": {
     "x": 0,
     "y": 175,
     "w": 12,
     "h": 5
    },
    "deepnote_cell_type": "code",
    "deepnote_cell_height": 492.1875,
    "deepnote_output_heights": [
     382.1875
    ]
   },
   "source": "df_pos_new = df_pos[df_pos['Roman-Urdu'].map(lambda x: x.isascii())]\ndf_pos_new",
   "execution_count": null,
   "outputs": [
    {
     "output_type": "execute_result",
     "data": {
      "text/plain": "          English   Roman-Urdu\n1          abound       bharay\n2         abounds     zayad-ti\n3       abundance       kasrat\n5      accessable   accessable\n6      accessible        rasai\n...           ...          ...\n1986          wow          wah\n1987       tiding  baha lejana\n1988  good habits      khubiya\n1989       advise      hidayat\n1990        mercy        reham\n\n[1853 rows x 2 columns]",
      "text/html": "\n  <div id=\"df-6bcc0265-1aab-4dd2-903d-7896d3c6fc78\">\n    <div class=\"colab-df-container\">\n      <div>\n<style scoped>\n    .dataframe tbody tr th:only-of-type {\n        vertical-align: middle;\n    }\n\n    .dataframe tbody tr th {\n        vertical-align: top;\n    }\n\n    .dataframe thead th {\n        text-align: right;\n    }\n</style>\n<table border=\"1\" class=\"dataframe\">\n  <thead>\n    <tr style=\"text-align: right;\">\n      <th></th>\n      <th>English</th>\n      <th>Roman-Urdu</th>\n    </tr>\n  </thead>\n  <tbody>\n    <tr>\n      <th>1</th>\n      <td>abound</td>\n      <td>bharay</td>\n    </tr>\n    <tr>\n      <th>2</th>\n      <td>abounds</td>\n      <td>zayad-ti</td>\n    </tr>\n    <tr>\n      <th>3</th>\n      <td>abundance</td>\n      <td>kasrat</td>\n    </tr>\n    <tr>\n      <th>5</th>\n      <td>accessable</td>\n      <td>accessable</td>\n    </tr>\n    <tr>\n      <th>6</th>\n      <td>accessible</td>\n      <td>rasai</td>\n    </tr>\n    <tr>\n      <th>...</th>\n      <td>...</td>\n      <td>...</td>\n    </tr>\n    <tr>\n      <th>1986</th>\n      <td>wow</td>\n      <td>wah</td>\n    </tr>\n    <tr>\n      <th>1987</th>\n      <td>tiding</td>\n      <td>baha lejana</td>\n    </tr>\n    <tr>\n      <th>1988</th>\n      <td>good habits</td>\n      <td>khubiya</td>\n    </tr>\n    <tr>\n      <th>1989</th>\n      <td>advise</td>\n      <td>hidayat</td>\n    </tr>\n    <tr>\n      <th>1990</th>\n      <td>mercy</td>\n      <td>reham</td>\n    </tr>\n  </tbody>\n</table>\n<p>1853 rows × 2 columns</p>\n</div>\n      <button class=\"colab-df-convert\" onclick=\"convertToInteractive('df-6bcc0265-1aab-4dd2-903d-7896d3c6fc78')\"\n              title=\"Convert this dataframe to an interactive table.\"\n              style=\"display:none;\">\n        \n  <svg xmlns=\"http://www.w3.org/2000/svg\" height=\"24px\"viewBox=\"0 0 24 24\"\n       width=\"24px\">\n    <path d=\"M0 0h24v24H0V0z\" fill=\"none\"/>\n    <path d=\"M18.56 5.44l.94 2.06.94-2.06 2.06-.94-2.06-.94-.94-2.06-.94 2.06-2.06.94zm-11 1L8.5 8.5l.94-2.06 2.06-.94-2.06-.94L8.5 2.5l-.94 2.06-2.06.94zm10 10l.94 2.06.94-2.06 2.06-.94-2.06-.94-.94-2.06-.94 2.06-2.06.94z\"/><path d=\"M17.41 7.96l-1.37-1.37c-.4-.4-.92-.59-1.43-.59-.52 0-1.04.2-1.43.59L10.3 9.45l-7.72 7.72c-.78.78-.78 2.05 0 2.83L4 21.41c.39.39.9.59 1.41.59.51 0 1.02-.2 1.41-.59l7.78-7.78 2.81-2.81c.8-.78.8-2.07 0-2.86zM5.41 20L4 18.59l7.72-7.72 1.47 1.35L5.41 20z\"/>\n  </svg>\n      </button>\n      \n  <style>\n    .colab-df-container {\n      display:flex;\n      flex-wrap:wrap;\n      gap: 12px;\n    }\n\n    .colab-df-convert {\n      background-color: #E8F0FE;\n      border: none;\n      border-radius: 50%;\n      cursor: pointer;\n      display: none;\n      fill: #1967D2;\n      height: 32px;\n      padding: 0 0 0 0;\n      width: 32px;\n    }\n\n    .colab-df-convert:hover {\n      background-color: #E2EBFA;\n      box-shadow: 0px 1px 2px rgba(60, 64, 67, 0.3), 0px 1px 3px 1px rgba(60, 64, 67, 0.15);\n      fill: #174EA6;\n    }\n\n    [theme=dark] .colab-df-convert {\n      background-color: #3B4455;\n      fill: #D2E3FC;\n    }\n\n    [theme=dark] .colab-df-convert:hover {\n      background-color: #434B5C;\n      box-shadow: 0px 1px 3px 1px rgba(0, 0, 0, 0.15);\n      filter: drop-shadow(0px 1px 2px rgba(0, 0, 0, 0.3));\n      fill: #FFFFFF;\n    }\n  </style>\n\n      <script>\n        const buttonEl =\n          document.querySelector('#df-6bcc0265-1aab-4dd2-903d-7896d3c6fc78 button.colab-df-convert');\n        buttonEl.style.display =\n          google.colab.kernel.accessAllowed ? 'block' : 'none';\n\n        async function convertToInteractive(key) {\n          const element = document.querySelector('#df-6bcc0265-1aab-4dd2-903d-7896d3c6fc78');\n          const dataTable =\n            await google.colab.kernel.invokeFunction('convertToInteractive',\n                                                     [key], {});\n          if (!dataTable) return;\n\n          const docLinkHtml = 'Like what you see? Visit the ' +\n            '<a target=\"_blank\" href=https://colab.research.google.com/notebooks/data_table.ipynb>data table notebook</a>'\n            + ' to learn more about interactive tables.';\n          element.innerHTML = '';\n          dataTable['output_type'] = 'display_data';\n          await google.colab.output.renderOutput(dataTable, element);\n          const docLink = document.createElement('div');\n          docLink.innerHTML = docLinkHtml;\n          element.appendChild(docLink);\n        }\n      </script>\n    </div>\n  </div>\n  "
     },
     "metadata": {},
     "execution_count": 23
    }
   ]
  },
  {
   "cell_type": "code",
   "metadata": {
    "colab": {
     "base_uri": "https://localhost:8080/"
    },
    "id": "xLK3YAUvZLZn",
    "outputId": "73a57851-a5ff-406e-b40c-74bb5adaafdb",
    "cell_id": "00030-94317621-1a1c-4750-b98c-44189d382d75",
    "deepnote_app_coordinates": {
     "x": 0,
     "y": 181,
     "w": 12,
     "h": 5
    },
    "deepnote_cell_type": "code",
    "deepnote_cell_height": 210.84375
   },
   "source": "df_pos_new['English'] = df_pos_new['English'].astype(\"string\")",
   "execution_count": null,
   "outputs": [
    {
     "output_type": "stream",
     "name": "stderr",
     "text": "/usr/local/lib/python3.7/dist-packages/ipykernel_launcher.py:1: SettingWithCopyWarning: \nA value is trying to be set on a copy of a slice from a DataFrame.\nTry using .loc[row_indexer,col_indexer] = value instead\n\nSee the caveats in the documentation: https://pandas.pydata.org/pandas-docs/stable/user_guide/indexing.html#returning-a-view-versus-a-copy\n  \"\"\"Entry point for launching an IPython kernel.\n"
    }
   ]
  },
  {
   "cell_type": "code",
   "metadata": {
    "colab": {
     "base_uri": "https://localhost:8080/"
    },
    "id": "lGLcfTboZku2",
    "outputId": "1a4ea234-8ea2-4a0d-eded-69d37f0451c6",
    "cell_id": "00031-9f7ee048-215d-422a-8a38-6402df79a799",
    "deepnote_app_coordinates": {
     "x": 0,
     "y": 187,
     "w": 12,
     "h": 5
    },
    "deepnote_cell_type": "code",
    "deepnote_cell_height": 151.59375,
    "deepnote_output_heights": [
     59.59375
    ]
   },
   "source": "df_pos_new.isnull().sum()",
   "execution_count": null,
   "outputs": [
    {
     "output_type": "execute_result",
     "data": {
      "text/plain": "English       0\nRoman-Urdu    0\ndtype: int64"
     },
     "metadata": {},
     "execution_count": 25
    }
   ]
  },
  {
   "cell_type": "markdown",
   "source": "### Translate the English column values into urdu language",
   "metadata": {
    "id": "l9QkT72pWQY9",
    "cell_id": "00032-e530f7e6-bf47-4076-914e-cbed4fd653d2",
    "deepnote_app_coordinates": {
     "x": 0,
     "y": 193,
     "w": 12,
     "h": 5
    },
    "deepnote_cell_type": "markdown",
    "deepnote_cell_height": 62
   }
  },
  {
   "cell_type": "code",
   "metadata": {
    "colab": {
     "base_uri": "https://localhost:8080/"
    },
    "id": "11pYYBUZg33h",
    "outputId": "eaeb9c2e-b695-44ab-c3ea-2b09d813e5fa",
    "cell_id": "00033-bd4f3e6a-99c9-4ed3-aa74-e8ec0772a177",
    "deepnote_app_coordinates": {
     "x": 0,
     "y": 199,
     "w": 12,
     "h": 5
    },
    "deepnote_cell_type": "code",
    "deepnote_cell_height": 380.75,
    "deepnote_output_heights": [
     270.765625
    ]
   },
   "source": "df_eng = pd.DataFrame(df_pos_new['English'])\ndf_eng.head",
   "execution_count": null,
   "outputs": [
    {
     "output_type": "execute_result",
     "data": {
      "text/plain": "<bound method NDFrame.head of           English\n1          abound\n2         abounds\n3       abundance\n5      accessable\n6      accessible\n...           ...\n1986          wow\n1987       tiding\n1988  good habits\n1989       advise\n1990        mercy\n\n[1853 rows x 1 columns]>"
     },
     "metadata": {},
     "execution_count": 31
    }
   ]
  },
  {
   "cell_type": "code",
   "metadata": {
    "colab": {
     "base_uri": "https://localhost:8080/"
    },
    "id": "is0MCzovd3VO",
    "outputId": "2f6da006-656f-4a3e-b950-f4d181aef34c",
    "cell_id": "00034-baaf31e2-5b76-42fe-bb6d-b7cd81eb8948",
    "deepnote_app_coordinates": {
     "x": 0,
     "y": 205,
     "w": 12,
     "h": 5
    },
    "deepnote_cell_type": "code",
    "deepnote_cell_height": 454.5
   },
   "source": "!pip install translate-api",
   "execution_count": null,
   "outputs": [
    {
     "output_type": "stream",
     "name": "stdout",
     "text": "Looking in indexes: https://pypi.org/simple, https://us-python.pkg.dev/colab-wheels/public/simple/\nRequirement already satisfied: translate-api in /usr/local/lib/python3.7/dist-packages (4.9.5)\nRequirement already satisfied: requests>=2.25.1 in /usr/local/lib/python3.7/dist-packages (from translate-api) (2.28.1)\nRequirement already satisfied: lxml>=4.5.0 in /usr/local/lib/python3.7/dist-packages (from translate-api) (4.9.0)\nRequirement already satisfied: loguru>=0.4.1 in /usr/local/lib/python3.7/dist-packages (from translate-api) (0.6.0)\nRequirement already satisfied: pathos>=0.2.7 in /usr/local/lib/python3.7/dist-packages (from translate-api) (0.2.9)\nRequirement already satisfied: PyExecJS>=1.5.1 in /usr/local/lib/python3.7/dist-packages (from translate-api) (1.5.1)\nRequirement already satisfied: dill>=0.3.5.1 in /usr/local/lib/python3.7/dist-packages (from pathos>=0.2.7->translate-api) (0.3.5.1)\nRequirement already satisfied: ppft>=1.7.6.5 in /usr/local/lib/python3.7/dist-packages (from pathos>=0.2.7->translate-api) (1.7.6.5)\nRequirement already satisfied: multiprocess>=0.70.13 in /usr/local/lib/python3.7/dist-packages (from pathos>=0.2.7->translate-api) (0.70.13)\nRequirement already satisfied: pox>=0.3.1 in /usr/local/lib/python3.7/dist-packages (from pathos>=0.2.7->translate-api) (0.3.1)\nRequirement already satisfied: six>=1.7.3 in /usr/local/lib/python3.7/dist-packages (from ppft>=1.7.6.5->pathos>=0.2.7->translate-api) (1.15.0)\nRequirement already satisfied: certifi>=2017.4.17 in /usr/local/lib/python3.7/dist-packages (from requests>=2.25.1->translate-api) (2022.6.15)\nRequirement already satisfied: idna<4,>=2.5 in /usr/local/lib/python3.7/dist-packages (from requests>=2.25.1->translate-api) (2.10)\nRequirement already satisfied: urllib3<1.27,>=1.21.1 in /usr/local/lib/python3.7/dist-packages (from requests>=2.25.1->translate-api) (1.24.3)\nRequirement already satisfied: charset-normalizer<3,>=2 in /usr/local/lib/python3.7/dist-packages (from requests>=2.25.1->translate-api) (2.0.12)\n"
    }
   ]
  },
  {
   "cell_type": "code",
   "metadata": {
    "id": "CkrVK-cad3MP",
    "cell_id": "00035-1d3d90cb-22b0-4add-bf44-362978cfd42d",
    "deepnote_app_coordinates": {
     "x": 0,
     "y": 211,
     "w": 12,
     "h": 5
    },
    "deepnote_cell_type": "code",
    "deepnote_cell_height": 79
   },
   "source": "import translators as ts\n#df_ur['Urdu'] = df_ur['English'].apply(lambda x: ts.google(x, to_language='ur'))",
   "execution_count": null,
   "outputs": []
  },
  {
   "cell_type": "code",
   "metadata": {
    "colab": {
     "base_uri": "https://localhost:8080/"
    },
    "id": "K6vlkqk9VYKW",
    "outputId": "20f1f9fb-8fcd-4e8d-9ef4-b8098eadef11",
    "cell_id": "00036-fe0f25b2-12c7-4b9e-a579-62bfa12913aa",
    "deepnote_app_coordinates": {
     "x": 0,
     "y": 217,
     "w": 12,
     "h": 5
    },
    "deepnote_cell_type": "code",
    "deepnote_cell_height": 131.1875,
    "deepnote_output_heights": [
     21.1875
    ]
   },
   "source": "eng_lst = df_eng['English'].to_list()\nlen(eng_lst)",
   "execution_count": null,
   "outputs": [
    {
     "output_type": "execute_result",
     "data": {
      "text/plain": "1853"
     },
     "metadata": {},
     "execution_count": 42
    }
   ]
  },
  {
   "cell_type": "code",
   "metadata": {
    "id": "mtJdaPx4VYiH",
    "cell_id": "00037-ab3bcf22-789c-465f-ac05-daf7b287205e",
    "deepnote_app_coordinates": {
     "x": 0,
     "y": 223,
     "w": 12,
     "h": 5
    },
    "deepnote_cell_type": "code",
    "deepnote_cell_height": 133
   },
   "source": "ur_lst = []\n\nfor i in range(len(eng_lst)):\n  val = ts.google(eng_lst[i], to_language='ur')\n  ur_lst.append(val)",
   "execution_count": null,
   "outputs": []
  },
  {
   "cell_type": "code",
   "metadata": {
    "colab": {
     "base_uri": "https://localhost:8080/"
    },
    "id": "JaCmRd4ZVZku",
    "outputId": "a779c8a1-aada-4cfd-8a9d-94f82c38115c",
    "cell_id": "00038-44f6e810-ea6e-4a8c-a831-62e623f2ce35",
    "deepnote_app_coordinates": {
     "x": 0,
     "y": 229,
     "w": 12,
     "h": 5
    },
    "deepnote_cell_type": "code",
    "deepnote_cell_height": 210.84375
   },
   "source": "df_pos_new['English'] = ur_lst",
   "execution_count": null,
   "outputs": [
    {
     "output_type": "stream",
     "name": "stderr",
     "text": "/usr/local/lib/python3.7/dist-packages/ipykernel_launcher.py:1: SettingWithCopyWarning: \nA value is trying to be set on a copy of a slice from a DataFrame.\nTry using .loc[row_indexer,col_indexer] = value instead\n\nSee the caveats in the documentation: https://pandas.pydata.org/pandas-docs/stable/user_guide/indexing.html#returning-a-view-versus-a-copy\n  \"\"\"Entry point for launching an IPython kernel.\n"
    }
   ]
  },
  {
   "cell_type": "code",
   "metadata": {
    "colab": {
     "base_uri": "https://localhost:8080/"
    },
    "id": "_0p-KswBVZTe",
    "outputId": "ce354ea4-2f7a-4cfe-8c80-08483fcd3645",
    "cell_id": "00039-f66e7c1b-fb5b-4b2f-b62f-192947891c89",
    "deepnote_app_coordinates": {
     "x": 0,
     "y": 235,
     "w": 12,
     "h": 5
    },
    "deepnote_cell_type": "code",
    "deepnote_cell_height": 190.984375
   },
   "source": "df_pos_new.rename(columns = {'English':'Urdu'}, inplace = True)",
   "execution_count": null,
   "outputs": [
    {
     "output_type": "stream",
     "name": "stderr",
     "text": "/usr/local/lib/python3.7/dist-packages/pandas/core/frame.py:5047: SettingWithCopyWarning: \nA value is trying to be set on a copy of a slice from a DataFrame\n\nSee the caveats in the documentation: https://pandas.pydata.org/pandas-docs/stable/user_guide/indexing.html#returning-a-view-versus-a-copy\n  errors=errors,\n"
    }
   ]
  },
  {
   "cell_type": "code",
   "metadata": {
    "colab": {
     "base_uri": "https://localhost:8080/",
     "height": 424
    },
    "id": "RyMjXkIyeFDd",
    "outputId": "b1c5226a-9c9f-42ea-d883-bf8201762680",
    "cell_id": "00040-7dcdee4e-c55a-4b18-9b8d-d355daa3fcc6",
    "deepnote_app_coordinates": {
     "x": 0,
     "y": 241,
     "w": 12,
     "h": 5
    },
    "deepnote_cell_type": "code",
    "deepnote_cell_height": 474.1875,
    "deepnote_output_heights": [
     382.1875
    ]
   },
   "source": "df_pos_new",
   "execution_count": null,
   "outputs": [
    {
     "output_type": "execute_result",
     "data": {
      "text/plain": "            Urdu   Roman-Urdu\n1     بہتات ہونا       bharay\n2      بہت زیادہ     zayad-ti\n3           کثرت       kasrat\n5     قابل رسائی   accessable\n6     قابل رسائی        rasai\n...          ...          ...\n1986      زبردست          wah\n1987    اسٹیرائن  baha lejana\n1988  اچھی عادات      khubiya\n1989   مشورہ دیں      hidayat\n1990        رحمت        reham\n\n[1853 rows x 2 columns]",
      "text/html": "\n  <div id=\"df-c9df7f9e-513a-49a7-b7fa-93a11d1d21bc\">\n    <div class=\"colab-df-container\">\n      <div>\n<style scoped>\n    .dataframe tbody tr th:only-of-type {\n        vertical-align: middle;\n    }\n\n    .dataframe tbody tr th {\n        vertical-align: top;\n    }\n\n    .dataframe thead th {\n        text-align: right;\n    }\n</style>\n<table border=\"1\" class=\"dataframe\">\n  <thead>\n    <tr style=\"text-align: right;\">\n      <th></th>\n      <th>Urdu</th>\n      <th>Roman-Urdu</th>\n    </tr>\n  </thead>\n  <tbody>\n    <tr>\n      <th>1</th>\n      <td>بہتات ہونا</td>\n      <td>bharay</td>\n    </tr>\n    <tr>\n      <th>2</th>\n      <td>بہت زیادہ</td>\n      <td>zayad-ti</td>\n    </tr>\n    <tr>\n      <th>3</th>\n      <td>کثرت</td>\n      <td>kasrat</td>\n    </tr>\n    <tr>\n      <th>5</th>\n      <td>قابل رسائی</td>\n      <td>accessable</td>\n    </tr>\n    <tr>\n      <th>6</th>\n      <td>قابل رسائی</td>\n      <td>rasai</td>\n    </tr>\n    <tr>\n      <th>...</th>\n      <td>...</td>\n      <td>...</td>\n    </tr>\n    <tr>\n      <th>1986</th>\n      <td>زبردست</td>\n      <td>wah</td>\n    </tr>\n    <tr>\n      <th>1987</th>\n      <td>اسٹیرائن</td>\n      <td>baha lejana</td>\n    </tr>\n    <tr>\n      <th>1988</th>\n      <td>اچھی عادات</td>\n      <td>khubiya</td>\n    </tr>\n    <tr>\n      <th>1989</th>\n      <td>مشورہ دیں</td>\n      <td>hidayat</td>\n    </tr>\n    <tr>\n      <th>1990</th>\n      <td>رحمت</td>\n      <td>reham</td>\n    </tr>\n  </tbody>\n</table>\n<p>1853 rows × 2 columns</p>\n</div>\n      <button class=\"colab-df-convert\" onclick=\"convertToInteractive('df-c9df7f9e-513a-49a7-b7fa-93a11d1d21bc')\"\n              title=\"Convert this dataframe to an interactive table.\"\n              style=\"display:none;\">\n        \n  <svg xmlns=\"http://www.w3.org/2000/svg\" height=\"24px\"viewBox=\"0 0 24 24\"\n       width=\"24px\">\n    <path d=\"M0 0h24v24H0V0z\" fill=\"none\"/>\n    <path d=\"M18.56 5.44l.94 2.06.94-2.06 2.06-.94-2.06-.94-.94-2.06-.94 2.06-2.06.94zm-11 1L8.5 8.5l.94-2.06 2.06-.94-2.06-.94L8.5 2.5l-.94 2.06-2.06.94zm10 10l.94 2.06.94-2.06 2.06-.94-2.06-.94-.94-2.06-.94 2.06-2.06.94z\"/><path d=\"M17.41 7.96l-1.37-1.37c-.4-.4-.92-.59-1.43-.59-.52 0-1.04.2-1.43.59L10.3 9.45l-7.72 7.72c-.78.78-.78 2.05 0 2.83L4 21.41c.39.39.9.59 1.41.59.51 0 1.02-.2 1.41-.59l7.78-7.78 2.81-2.81c.8-.78.8-2.07 0-2.86zM5.41 20L4 18.59l7.72-7.72 1.47 1.35L5.41 20z\"/>\n  </svg>\n      </button>\n      \n  <style>\n    .colab-df-container {\n      display:flex;\n      flex-wrap:wrap;\n      gap: 12px;\n    }\n\n    .colab-df-convert {\n      background-color: #E8F0FE;\n      border: none;\n      border-radius: 50%;\n      cursor: pointer;\n      display: none;\n      fill: #1967D2;\n      height: 32px;\n      padding: 0 0 0 0;\n      width: 32px;\n    }\n\n    .colab-df-convert:hover {\n      background-color: #E2EBFA;\n      box-shadow: 0px 1px 2px rgba(60, 64, 67, 0.3), 0px 1px 3px 1px rgba(60, 64, 67, 0.15);\n      fill: #174EA6;\n    }\n\n    [theme=dark] .colab-df-convert {\n      background-color: #3B4455;\n      fill: #D2E3FC;\n    }\n\n    [theme=dark] .colab-df-convert:hover {\n      background-color: #434B5C;\n      box-shadow: 0px 1px 3px 1px rgba(0, 0, 0, 0.15);\n      filter: drop-shadow(0px 1px 2px rgba(0, 0, 0, 0.3));\n      fill: #FFFFFF;\n    }\n  </style>\n\n      <script>\n        const buttonEl =\n          document.querySelector('#df-c9df7f9e-513a-49a7-b7fa-93a11d1d21bc button.colab-df-convert');\n        buttonEl.style.display =\n          google.colab.kernel.accessAllowed ? 'block' : 'none';\n\n        async function convertToInteractive(key) {\n          const element = document.querySelector('#df-c9df7f9e-513a-49a7-b7fa-93a11d1d21bc');\n          const dataTable =\n            await google.colab.kernel.invokeFunction('convertToInteractive',\n                                                     [key], {});\n          if (!dataTable) return;\n\n          const docLinkHtml = 'Like what you see? Visit the ' +\n            '<a target=\"_blank\" href=https://colab.research.google.com/notebooks/data_table.ipynb>data table notebook</a>'\n            + ' to learn more about interactive tables.';\n          element.innerHTML = '';\n          dataTable['output_type'] = 'display_data';\n          await google.colab.output.renderOutput(dataTable, element);\n          const docLink = document.createElement('div');\n          docLink.innerHTML = docLinkHtml;\n          element.appendChild(docLink);\n        }\n      </script>\n    </div>\n  </div>\n  "
     },
     "metadata": {},
     "execution_count": 65
    }
   ]
  },
  {
   "cell_type": "markdown",
   "source": "## Merging datasets 1, 2, 3 and 4",
   "metadata": {
    "id": "xzrBYoVR2jb6",
    "cell_id": "00041-ffa15f91-aea9-4c85-84ae-a2517c071204",
    "deepnote_app_coordinates": {
     "x": 0,
     "y": 247,
     "w": 12,
     "h": 5
    },
    "deepnote_cell_type": "markdown",
    "deepnote_cell_height": 70
   }
  },
  {
   "cell_type": "code",
   "metadata": {
    "id": "fCmV_VP4gJIY",
    "cell_id": "00042-23c6bc2e-7b6d-467d-a12c-fabcbd2652c9",
    "deepnote_app_coordinates": {
     "x": 0,
     "y": 253,
     "w": 12,
     "h": 5
    },
    "deepnote_cell_type": "code",
    "deepnote_cell_height": 79
   },
   "source": "data_2 = [df_new1, df_pos_new]\ndf_new2 = pd.concat(data_2)",
   "execution_count": null,
   "outputs": []
  },
  {
   "cell_type": "code",
   "metadata": {
    "colab": {
     "base_uri": "https://localhost:8080/",
     "height": 424
    },
    "id": "Q3pKnXOahVbv",
    "outputId": "983c632e-81eb-46b3-c875-a475300c439d",
    "cell_id": "00043-45553acf-ac31-4439-97ff-bfff749db797",
    "deepnote_app_coordinates": {
     "x": 0,
     "y": 259,
     "w": 12,
     "h": 5
    },
    "deepnote_cell_type": "code",
    "deepnote_cell_height": 492.1875,
    "deepnote_output_heights": [
     382.1875
    ]
   },
   "source": "df_new2\n",
   "execution_count": null,
   "outputs": [
    {
     "output_type": "execute_result",
     "data": {
      "text/plain": "            Urdu   Roman-Urdu\n0           خبر        khabar\n1          آباد        aabaad\n2          آبرو         aabru\n3            آپ           aap\n4          آداب        aadaab\n...          ...          ...\n1986      زبردست          wah\n1987    اسٹیرائن  baha lejana\n1988  اچھی عادات      khubiya\n1989   مشورہ دیں      hidayat\n1990        رحمت        reham\n\n[11448 rows x 2 columns]",
      "text/html": "\n  <div id=\"df-db8bd96e-3e8b-4c22-9a1f-eef042c24c4b\">\n    <div class=\"colab-df-container\">\n      <div>\n<style scoped>\n    .dataframe tbody tr th:only-of-type {\n        vertical-align: middle;\n    }\n\n    .dataframe tbody tr th {\n        vertical-align: top;\n    }\n\n    .dataframe thead th {\n        text-align: right;\n    }\n</style>\n<table border=\"1\" class=\"dataframe\">\n  <thead>\n    <tr style=\"text-align: right;\">\n      <th></th>\n      <th>Urdu</th>\n      <th>Roman-Urdu</th>\n    </tr>\n  </thead>\n  <tbody>\n    <tr>\n      <th>0</th>\n      <td>خبر</td>\n      <td>khabar</td>\n    </tr>\n    <tr>\n      <th>1</th>\n      <td>آباد</td>\n      <td>aabaad</td>\n    </tr>\n    <tr>\n      <th>2</th>\n      <td>آبرو</td>\n      <td>aabru</td>\n    </tr>\n    <tr>\n      <th>3</th>\n      <td>آپ</td>\n      <td>aap</td>\n    </tr>\n    <tr>\n      <th>4</th>\n      <td>آداب</td>\n      <td>aadaab</td>\n    </tr>\n    <tr>\n      <th>...</th>\n      <td>...</td>\n      <td>...</td>\n    </tr>\n    <tr>\n      <th>1986</th>\n      <td>زبردست</td>\n      <td>wah</td>\n    </tr>\n    <tr>\n      <th>1987</th>\n      <td>اسٹیرائن</td>\n      <td>baha lejana</td>\n    </tr>\n    <tr>\n      <th>1988</th>\n      <td>اچھی عادات</td>\n      <td>khubiya</td>\n    </tr>\n    <tr>\n      <th>1989</th>\n      <td>مشورہ دیں</td>\n      <td>hidayat</td>\n    </tr>\n    <tr>\n      <th>1990</th>\n      <td>رحمت</td>\n      <td>reham</td>\n    </tr>\n  </tbody>\n</table>\n<p>11448 rows × 2 columns</p>\n</div>\n      <button class=\"colab-df-convert\" onclick=\"convertToInteractive('df-db8bd96e-3e8b-4c22-9a1f-eef042c24c4b')\"\n              title=\"Convert this dataframe to an interactive table.\"\n              style=\"display:none;\">\n        \n  <svg xmlns=\"http://www.w3.org/2000/svg\" height=\"24px\"viewBox=\"0 0 24 24\"\n       width=\"24px\">\n    <path d=\"M0 0h24v24H0V0z\" fill=\"none\"/>\n    <path d=\"M18.56 5.44l.94 2.06.94-2.06 2.06-.94-2.06-.94-.94-2.06-.94 2.06-2.06.94zm-11 1L8.5 8.5l.94-2.06 2.06-.94-2.06-.94L8.5 2.5l-.94 2.06-2.06.94zm10 10l.94 2.06.94-2.06 2.06-.94-2.06-.94-.94-2.06-.94 2.06-2.06.94z\"/><path d=\"M17.41 7.96l-1.37-1.37c-.4-.4-.92-.59-1.43-.59-.52 0-1.04.2-1.43.59L10.3 9.45l-7.72 7.72c-.78.78-.78 2.05 0 2.83L4 21.41c.39.39.9.59 1.41.59.51 0 1.02-.2 1.41-.59l7.78-7.78 2.81-2.81c.8-.78.8-2.07 0-2.86zM5.41 20L4 18.59l7.72-7.72 1.47 1.35L5.41 20z\"/>\n  </svg>\n      </button>\n      \n  <style>\n    .colab-df-container {\n      display:flex;\n      flex-wrap:wrap;\n      gap: 12px;\n    }\n\n    .colab-df-convert {\n      background-color: #E8F0FE;\n      border: none;\n      border-radius: 50%;\n      cursor: pointer;\n      display: none;\n      fill: #1967D2;\n      height: 32px;\n      padding: 0 0 0 0;\n      width: 32px;\n    }\n\n    .colab-df-convert:hover {\n      background-color: #E2EBFA;\n      box-shadow: 0px 1px 2px rgba(60, 64, 67, 0.3), 0px 1px 3px 1px rgba(60, 64, 67, 0.15);\n      fill: #174EA6;\n    }\n\n    [theme=dark] .colab-df-convert {\n      background-color: #3B4455;\n      fill: #D2E3FC;\n    }\n\n    [theme=dark] .colab-df-convert:hover {\n      background-color: #434B5C;\n      box-shadow: 0px 1px 3px 1px rgba(0, 0, 0, 0.15);\n      filter: drop-shadow(0px 1px 2px rgba(0, 0, 0, 0.3));\n      fill: #FFFFFF;\n    }\n  </style>\n\n      <script>\n        const buttonEl =\n          document.querySelector('#df-db8bd96e-3e8b-4c22-9a1f-eef042c24c4b button.colab-df-convert');\n        buttonEl.style.display =\n          google.colab.kernel.accessAllowed ? 'block' : 'none';\n\n        async function convertToInteractive(key) {\n          const element = document.querySelector('#df-db8bd96e-3e8b-4c22-9a1f-eef042c24c4b');\n          const dataTable =\n            await google.colab.kernel.invokeFunction('convertToInteractive',\n                                                     [key], {});\n          if (!dataTable) return;\n\n          const docLinkHtml = 'Like what you see? Visit the ' +\n            '<a target=\"_blank\" href=https://colab.research.google.com/notebooks/data_table.ipynb>data table notebook</a>'\n            + ' to learn more about interactive tables.';\n          element.innerHTML = '';\n          dataTable['output_type'] = 'display_data';\n          await google.colab.output.renderOutput(dataTable, element);\n          const docLink = document.createElement('div');\n          docLink.innerHTML = docLinkHtml;\n          element.appendChild(docLink);\n        }\n      </script>\n    </div>\n  </div>\n  "
     },
     "metadata": {},
     "execution_count": 67
    }
   ]
  },
  {
   "cell_type": "code",
   "metadata": {
    "id": "1j_Pc_mahhaG",
    "cell_id": "00044-e3016675-6b3e-4075-abad-ba4a2be3adb0",
    "deepnote_app_coordinates": {
     "x": 0,
     "y": 265,
     "w": 12,
     "h": 5
    },
    "deepnote_cell_type": "code",
    "deepnote_cell_height": 61
   },
   "source": "df_new2.to_csv(\"/content/dataset.txt\", index=False)",
   "execution_count": null,
   "outputs": []
  },
  {
   "cell_type": "markdown",
   "source": "## Dataset 5 (neg.txt)",
   "metadata": {
    "id": "oBgB4J0j-YTu",
    "cell_id": "00045-48942130-468c-474d-8ce8-29a97f87b029",
    "deepnote_app_coordinates": {
     "x": 0,
     "y": 271,
     "w": 12,
     "h": 5
    },
    "deepnote_cell_type": "markdown",
    "deepnote_cell_height": 70
   }
  },
  {
   "cell_type": "code",
   "metadata": {
    "id": "lvfv5UjfXM4O",
    "colab": {
     "base_uri": "https://localhost:8080/",
     "height": 424
    },
    "outputId": "22272efa-4770-42f6-85fc-a6b30e18b8e8",
    "cell_id": "00046-29ccbf56-3b4e-4e06-a9a0-7b4b78226a64",
    "deepnote_app_coordinates": {
     "x": 0,
     "y": 277,
     "w": 12,
     "h": 5
    },
    "deepnote_cell_type": "code",
    "deepnote_cell_height": 492.1875,
    "deepnote_output_heights": [
     382.1875
    ]
   },
   "source": "df1 = pd.read_csv(\"neg.txt\", sep = \":\", names=['English', 'Roman-Urdu', 'Frequency'])\ndf1",
   "execution_count": null,
   "outputs": [
    {
     "output_type": "execute_result",
     "data": {
      "text/plain": "         English     Roman-Urdu Frequency\n0        2-faced        ﻿2-چہرے        JJ\n1        2-faces         2-چہرے       NNS\n2       abnormal  ghair mamooli        JJ\n3        abolish         khatam        NN\n4     abominable        makrooh        JJ\n...          ...            ...       ...\n4801      tyrant         zalimo        xx\n4802        torm           azab        xx\n4803        torm          azaab        xx\n4804        sins        gunnaho        xx\n4805   perilious      jaan lewa        xx\n\n[4806 rows x 3 columns]",
      "text/html": "\n  <div id=\"df-247f8805-1aed-4636-91ee-d5d271b23d8a\">\n    <div class=\"colab-df-container\">\n      <div>\n<style scoped>\n    .dataframe tbody tr th:only-of-type {\n        vertical-align: middle;\n    }\n\n    .dataframe tbody tr th {\n        vertical-align: top;\n    }\n\n    .dataframe thead th {\n        text-align: right;\n    }\n</style>\n<table border=\"1\" class=\"dataframe\">\n  <thead>\n    <tr style=\"text-align: right;\">\n      <th></th>\n      <th>English</th>\n      <th>Roman-Urdu</th>\n      <th>Frequency</th>\n    </tr>\n  </thead>\n  <tbody>\n    <tr>\n      <th>0</th>\n      <td>2-faced</td>\n      <td>﻿2-چہرے</td>\n      <td>JJ</td>\n    </tr>\n    <tr>\n      <th>1</th>\n      <td>2-faces</td>\n      <td>2-چہرے</td>\n      <td>NNS</td>\n    </tr>\n    <tr>\n      <th>2</th>\n      <td>abnormal</td>\n      <td>ghair mamooli</td>\n      <td>JJ</td>\n    </tr>\n    <tr>\n      <th>3</th>\n      <td>abolish</td>\n      <td>khatam</td>\n      <td>NN</td>\n    </tr>\n    <tr>\n      <th>4</th>\n      <td>abominable</td>\n      <td>makrooh</td>\n      <td>JJ</td>\n    </tr>\n    <tr>\n      <th>...</th>\n      <td>...</td>\n      <td>...</td>\n      <td>...</td>\n    </tr>\n    <tr>\n      <th>4801</th>\n      <td>tyrant</td>\n      <td>zalimo</td>\n      <td>xx</td>\n    </tr>\n    <tr>\n      <th>4802</th>\n      <td>torm</td>\n      <td>azab</td>\n      <td>xx</td>\n    </tr>\n    <tr>\n      <th>4803</th>\n      <td>torm</td>\n      <td>azaab</td>\n      <td>xx</td>\n    </tr>\n    <tr>\n      <th>4804</th>\n      <td>sins</td>\n      <td>gunnaho</td>\n      <td>xx</td>\n    </tr>\n    <tr>\n      <th>4805</th>\n      <td>perilious</td>\n      <td>jaan lewa</td>\n      <td>xx</td>\n    </tr>\n  </tbody>\n</table>\n<p>4806 rows × 3 columns</p>\n</div>\n      <button class=\"colab-df-convert\" onclick=\"convertToInteractive('df-247f8805-1aed-4636-91ee-d5d271b23d8a')\"\n              title=\"Convert this dataframe to an interactive table.\"\n              style=\"display:none;\">\n        \n  <svg xmlns=\"http://www.w3.org/2000/svg\" height=\"24px\"viewBox=\"0 0 24 24\"\n       width=\"24px\">\n    <path d=\"M0 0h24v24H0V0z\" fill=\"none\"/>\n    <path d=\"M18.56 5.44l.94 2.06.94-2.06 2.06-.94-2.06-.94-.94-2.06-.94 2.06-2.06.94zm-11 1L8.5 8.5l.94-2.06 2.06-.94-2.06-.94L8.5 2.5l-.94 2.06-2.06.94zm10 10l.94 2.06.94-2.06 2.06-.94-2.06-.94-.94-2.06-.94 2.06-2.06.94z\"/><path d=\"M17.41 7.96l-1.37-1.37c-.4-.4-.92-.59-1.43-.59-.52 0-1.04.2-1.43.59L10.3 9.45l-7.72 7.72c-.78.78-.78 2.05 0 2.83L4 21.41c.39.39.9.59 1.41.59.51 0 1.02-.2 1.41-.59l7.78-7.78 2.81-2.81c.8-.78.8-2.07 0-2.86zM5.41 20L4 18.59l7.72-7.72 1.47 1.35L5.41 20z\"/>\n  </svg>\n      </button>\n      \n  <style>\n    .colab-df-container {\n      display:flex;\n      flex-wrap:wrap;\n      gap: 12px;\n    }\n\n    .colab-df-convert {\n      background-color: #E8F0FE;\n      border: none;\n      border-radius: 50%;\n      cursor: pointer;\n      display: none;\n      fill: #1967D2;\n      height: 32px;\n      padding: 0 0 0 0;\n      width: 32px;\n    }\n\n    .colab-df-convert:hover {\n      background-color: #E2EBFA;\n      box-shadow: 0px 1px 2px rgba(60, 64, 67, 0.3), 0px 1px 3px 1px rgba(60, 64, 67, 0.15);\n      fill: #174EA6;\n    }\n\n    [theme=dark] .colab-df-convert {\n      background-color: #3B4455;\n      fill: #D2E3FC;\n    }\n\n    [theme=dark] .colab-df-convert:hover {\n      background-color: #434B5C;\n      box-shadow: 0px 1px 3px 1px rgba(0, 0, 0, 0.15);\n      filter: drop-shadow(0px 1px 2px rgba(0, 0, 0, 0.3));\n      fill: #FFFFFF;\n    }\n  </style>\n\n      <script>\n        const buttonEl =\n          document.querySelector('#df-247f8805-1aed-4636-91ee-d5d271b23d8a button.colab-df-convert');\n        buttonEl.style.display =\n          google.colab.kernel.accessAllowed ? 'block' : 'none';\n\n        async function convertToInteractive(key) {\n          const element = document.querySelector('#df-247f8805-1aed-4636-91ee-d5d271b23d8a');\n          const dataTable =\n            await google.colab.kernel.invokeFunction('convertToInteractive',\n                                                     [key], {});\n          if (!dataTable) return;\n\n          const docLinkHtml = 'Like what you see? Visit the ' +\n            '<a target=\"_blank\" href=https://colab.research.google.com/notebooks/data_table.ipynb>data table notebook</a>'\n            + ' to learn more about interactive tables.';\n          element.innerHTML = '';\n          dataTable['output_type'] = 'display_data';\n          await google.colab.output.renderOutput(dataTable, element);\n          const docLink = document.createElement('div');\n          docLink.innerHTML = docLinkHtml;\n          element.appendChild(docLink);\n        }\n      </script>\n    </div>\n  </div>\n  "
     },
     "metadata": {},
     "execution_count": 3
    }
   ]
  },
  {
   "cell_type": "code",
   "metadata": {
    "colab": {
     "base_uri": "https://localhost:8080/",
     "height": 206
    },
    "id": "XkzGnPi3AHnq",
    "outputId": "5d4ee1cf-e6a8-4cae-aab5-8948ff954921",
    "cell_id": "00047-8c767c17-cd7a-43b7-b138-dea5e5ce9a9f",
    "deepnote_app_coordinates": {
     "x": 0,
     "y": 283,
     "w": 12,
     "h": 5
    },
    "deepnote_cell_type": "code",
    "deepnote_cell_height": 287,
    "deepnote_output_heights": [
     177
    ]
   },
   "source": "df1.drop(columns='Frequency', inplace=True)\ndf1.head()",
   "execution_count": null,
   "outputs": [
    {
     "output_type": "execute_result",
     "data": {
      "text/plain": "      English     Roman-Urdu\n0     2-faced        ﻿2-چہرے\n1     2-faces         2-چہرے\n2    abnormal  ghair mamooli\n3     abolish         khatam\n4  abominable        makrooh",
      "text/html": "\n  <div id=\"df-d2e783a6-a014-4dec-82f0-c160ff24eb15\">\n    <div class=\"colab-df-container\">\n      <div>\n<style scoped>\n    .dataframe tbody tr th:only-of-type {\n        vertical-align: middle;\n    }\n\n    .dataframe tbody tr th {\n        vertical-align: top;\n    }\n\n    .dataframe thead th {\n        text-align: right;\n    }\n</style>\n<table border=\"1\" class=\"dataframe\">\n  <thead>\n    <tr style=\"text-align: right;\">\n      <th></th>\n      <th>English</th>\n      <th>Roman-Urdu</th>\n    </tr>\n  </thead>\n  <tbody>\n    <tr>\n      <th>0</th>\n      <td>2-faced</td>\n      <td>﻿2-چہرے</td>\n    </tr>\n    <tr>\n      <th>1</th>\n      <td>2-faces</td>\n      <td>2-چہرے</td>\n    </tr>\n    <tr>\n      <th>2</th>\n      <td>abnormal</td>\n      <td>ghair mamooli</td>\n    </tr>\n    <tr>\n      <th>3</th>\n      <td>abolish</td>\n      <td>khatam</td>\n    </tr>\n    <tr>\n      <th>4</th>\n      <td>abominable</td>\n      <td>makrooh</td>\n    </tr>\n  </tbody>\n</table>\n</div>\n      <button class=\"colab-df-convert\" onclick=\"convertToInteractive('df-d2e783a6-a014-4dec-82f0-c160ff24eb15')\"\n              title=\"Convert this dataframe to an interactive table.\"\n              style=\"display:none;\">\n        \n  <svg xmlns=\"http://www.w3.org/2000/svg\" height=\"24px\"viewBox=\"0 0 24 24\"\n       width=\"24px\">\n    <path d=\"M0 0h24v24H0V0z\" fill=\"none\"/>\n    <path d=\"M18.56 5.44l.94 2.06.94-2.06 2.06-.94-2.06-.94-.94-2.06-.94 2.06-2.06.94zm-11 1L8.5 8.5l.94-2.06 2.06-.94-2.06-.94L8.5 2.5l-.94 2.06-2.06.94zm10 10l.94 2.06.94-2.06 2.06-.94-2.06-.94-.94-2.06-.94 2.06-2.06.94z\"/><path d=\"M17.41 7.96l-1.37-1.37c-.4-.4-.92-.59-1.43-.59-.52 0-1.04.2-1.43.59L10.3 9.45l-7.72 7.72c-.78.78-.78 2.05 0 2.83L4 21.41c.39.39.9.59 1.41.59.51 0 1.02-.2 1.41-.59l7.78-7.78 2.81-2.81c.8-.78.8-2.07 0-2.86zM5.41 20L4 18.59l7.72-7.72 1.47 1.35L5.41 20z\"/>\n  </svg>\n      </button>\n      \n  <style>\n    .colab-df-container {\n      display:flex;\n      flex-wrap:wrap;\n      gap: 12px;\n    }\n\n    .colab-df-convert {\n      background-color: #E8F0FE;\n      border: none;\n      border-radius: 50%;\n      cursor: pointer;\n      display: none;\n      fill: #1967D2;\n      height: 32px;\n      padding: 0 0 0 0;\n      width: 32px;\n    }\n\n    .colab-df-convert:hover {\n      background-color: #E2EBFA;\n      box-shadow: 0px 1px 2px rgba(60, 64, 67, 0.3), 0px 1px 3px 1px rgba(60, 64, 67, 0.15);\n      fill: #174EA6;\n    }\n\n    [theme=dark] .colab-df-convert {\n      background-color: #3B4455;\n      fill: #D2E3FC;\n    }\n\n    [theme=dark] .colab-df-convert:hover {\n      background-color: #434B5C;\n      box-shadow: 0px 1px 3px 1px rgba(0, 0, 0, 0.15);\n      filter: drop-shadow(0px 1px 2px rgba(0, 0, 0, 0.3));\n      fill: #FFFFFF;\n    }\n  </style>\n\n      <script>\n        const buttonEl =\n          document.querySelector('#df-d2e783a6-a014-4dec-82f0-c160ff24eb15 button.colab-df-convert');\n        buttonEl.style.display =\n          google.colab.kernel.accessAllowed ? 'block' : 'none';\n\n        async function convertToInteractive(key) {\n          const element = document.querySelector('#df-d2e783a6-a014-4dec-82f0-c160ff24eb15');\n          const dataTable =\n            await google.colab.kernel.invokeFunction('convertToInteractive',\n                                                     [key], {});\n          if (!dataTable) return;\n\n          const docLinkHtml = 'Like what you see? Visit the ' +\n            '<a target=\"_blank\" href=https://colab.research.google.com/notebooks/data_table.ipynb>data table notebook</a>'\n            + ' to learn more about interactive tables.';\n          element.innerHTML = '';\n          dataTable['output_type'] = 'display_data';\n          await google.colab.output.renderOutput(dataTable, element);\n          const docLink = document.createElement('div');\n          docLink.innerHTML = docLinkHtml;\n          element.appendChild(docLink);\n        }\n      </script>\n    </div>\n  </div>\n  "
     },
     "metadata": {},
     "execution_count": 4
    }
   ]
  },
  {
   "cell_type": "markdown",
   "source": "### Excluding Roman-Urdu rows with urdu words",
   "metadata": {
    "id": "NkUv7U0qAzb6",
    "cell_id": "00048-705e826a-14bc-4c77-afd2-bb72c2236cf4",
    "deepnote_app_coordinates": {
     "x": 0,
     "y": 289,
     "w": 12,
     "h": 5
    },
    "deepnote_cell_type": "markdown",
    "deepnote_cell_height": 62
   }
  },
  {
   "cell_type": "code",
   "metadata": {
    "colab": {
     "base_uri": "https://localhost:8080/",
     "height": 424
    },
    "id": "tG7Cym4FAv0f",
    "outputId": "4fdc7b5c-1e0d-4512-e7b6-b4acfdb78ac8",
    "cell_id": "00049-d9f7457d-6355-438e-9b81-747999c19ffc",
    "deepnote_app_coordinates": {
     "x": 0,
     "y": 295,
     "w": 12,
     "h": 5
    },
    "deepnote_cell_type": "code",
    "deepnote_cell_height": 492.1875,
    "deepnote_output_heights": [
     382.1875
    ]
   },
   "source": "df2 = df1[df1['Roman-Urdu'].map(lambda x : x.isascii())]\ndf2",
   "execution_count": null,
   "outputs": [
    {
     "output_type": "execute_result",
     "data": {
      "text/plain": "         English     Roman-Urdu\n2       abnormal  ghair mamooli\n3        abolish         khatam\n4     abominable        makrooh\n5     abominably          gunah\n6      abominate   nafrat karna\n...          ...            ...\n4801      tyrant         zalimo\n4802        torm           azab\n4803        torm          azaab\n4804        sins        gunnaho\n4805   perilious      jaan lewa\n\n[4297 rows x 2 columns]",
      "text/html": "\n  <div id=\"df-b0962fb3-adaf-4ec3-8424-bf4ac22c66ca\">\n    <div class=\"colab-df-container\">\n      <div>\n<style scoped>\n    .dataframe tbody tr th:only-of-type {\n        vertical-align: middle;\n    }\n\n    .dataframe tbody tr th {\n        vertical-align: top;\n    }\n\n    .dataframe thead th {\n        text-align: right;\n    }\n</style>\n<table border=\"1\" class=\"dataframe\">\n  <thead>\n    <tr style=\"text-align: right;\">\n      <th></th>\n      <th>English</th>\n      <th>Roman-Urdu</th>\n    </tr>\n  </thead>\n  <tbody>\n    <tr>\n      <th>2</th>\n      <td>abnormal</td>\n      <td>ghair mamooli</td>\n    </tr>\n    <tr>\n      <th>3</th>\n      <td>abolish</td>\n      <td>khatam</td>\n    </tr>\n    <tr>\n      <th>4</th>\n      <td>abominable</td>\n      <td>makrooh</td>\n    </tr>\n    <tr>\n      <th>5</th>\n      <td>abominably</td>\n      <td>gunah</td>\n    </tr>\n    <tr>\n      <th>6</th>\n      <td>abominate</td>\n      <td>nafrat karna</td>\n    </tr>\n    <tr>\n      <th>...</th>\n      <td>...</td>\n      <td>...</td>\n    </tr>\n    <tr>\n      <th>4801</th>\n      <td>tyrant</td>\n      <td>zalimo</td>\n    </tr>\n    <tr>\n      <th>4802</th>\n      <td>torm</td>\n      <td>azab</td>\n    </tr>\n    <tr>\n      <th>4803</th>\n      <td>torm</td>\n      <td>azaab</td>\n    </tr>\n    <tr>\n      <th>4804</th>\n      <td>sins</td>\n      <td>gunnaho</td>\n    </tr>\n    <tr>\n      <th>4805</th>\n      <td>perilious</td>\n      <td>jaan lewa</td>\n    </tr>\n  </tbody>\n</table>\n<p>4297 rows × 2 columns</p>\n</div>\n      <button class=\"colab-df-convert\" onclick=\"convertToInteractive('df-b0962fb3-adaf-4ec3-8424-bf4ac22c66ca')\"\n              title=\"Convert this dataframe to an interactive table.\"\n              style=\"display:none;\">\n        \n  <svg xmlns=\"http://www.w3.org/2000/svg\" height=\"24px\"viewBox=\"0 0 24 24\"\n       width=\"24px\">\n    <path d=\"M0 0h24v24H0V0z\" fill=\"none\"/>\n    <path d=\"M18.56 5.44l.94 2.06.94-2.06 2.06-.94-2.06-.94-.94-2.06-.94 2.06-2.06.94zm-11 1L8.5 8.5l.94-2.06 2.06-.94-2.06-.94L8.5 2.5l-.94 2.06-2.06.94zm10 10l.94 2.06.94-2.06 2.06-.94-2.06-.94-.94-2.06-.94 2.06-2.06.94z\"/><path d=\"M17.41 7.96l-1.37-1.37c-.4-.4-.92-.59-1.43-.59-.52 0-1.04.2-1.43.59L10.3 9.45l-7.72 7.72c-.78.78-.78 2.05 0 2.83L4 21.41c.39.39.9.59 1.41.59.51 0 1.02-.2 1.41-.59l7.78-7.78 2.81-2.81c.8-.78.8-2.07 0-2.86zM5.41 20L4 18.59l7.72-7.72 1.47 1.35L5.41 20z\"/>\n  </svg>\n      </button>\n      \n  <style>\n    .colab-df-container {\n      display:flex;\n      flex-wrap:wrap;\n      gap: 12px;\n    }\n\n    .colab-df-convert {\n      background-color: #E8F0FE;\n      border: none;\n      border-radius: 50%;\n      cursor: pointer;\n      display: none;\n      fill: #1967D2;\n      height: 32px;\n      padding: 0 0 0 0;\n      width: 32px;\n    }\n\n    .colab-df-convert:hover {\n      background-color: #E2EBFA;\n      box-shadow: 0px 1px 2px rgba(60, 64, 67, 0.3), 0px 1px 3px 1px rgba(60, 64, 67, 0.15);\n      fill: #174EA6;\n    }\n\n    [theme=dark] .colab-df-convert {\n      background-color: #3B4455;\n      fill: #D2E3FC;\n    }\n\n    [theme=dark] .colab-df-convert:hover {\n      background-color: #434B5C;\n      box-shadow: 0px 1px 3px 1px rgba(0, 0, 0, 0.15);\n      filter: drop-shadow(0px 1px 2px rgba(0, 0, 0, 0.3));\n      fill: #FFFFFF;\n    }\n  </style>\n\n      <script>\n        const buttonEl =\n          document.querySelector('#df-b0962fb3-adaf-4ec3-8424-bf4ac22c66ca button.colab-df-convert');\n        buttonEl.style.display =\n          google.colab.kernel.accessAllowed ? 'block' : 'none';\n\n        async function convertToInteractive(key) {\n          const element = document.querySelector('#df-b0962fb3-adaf-4ec3-8424-bf4ac22c66ca');\n          const dataTable =\n            await google.colab.kernel.invokeFunction('convertToInteractive',\n                                                     [key], {});\n          if (!dataTable) return;\n\n          const docLinkHtml = 'Like what you see? Visit the ' +\n            '<a target=\"_blank\" href=https://colab.research.google.com/notebooks/data_table.ipynb>data table notebook</a>'\n            + ' to learn more about interactive tables.';\n          element.innerHTML = '';\n          dataTable['output_type'] = 'display_data';\n          await google.colab.output.renderOutput(dataTable, element);\n          const docLink = document.createElement('div');\n          docLink.innerHTML = docLinkHtml;\n          element.appendChild(docLink);\n        }\n      </script>\n    </div>\n  </div>\n  "
     },
     "metadata": {},
     "execution_count": 5
    }
   ]
  },
  {
   "cell_type": "code",
   "metadata": {
    "colab": {
     "base_uri": "https://localhost:8080/"
    },
    "id": "M-kPAJOTA1p-",
    "outputId": "f354b7a0-42dc-4bdc-c708-a5e6c34fcfe7",
    "cell_id": "00050-9fed62cf-c2eb-44e9-9616-d11553c5be5e",
    "deepnote_app_coordinates": {
     "x": 0,
     "y": 301,
     "w": 12,
     "h": 5
    },
    "deepnote_cell_type": "code",
    "deepnote_cell_height": 151.59375,
    "deepnote_output_heights": [
     59.59375
    ]
   },
   "source": "df2.dtypes",
   "execution_count": null,
   "outputs": [
    {
     "output_type": "execute_result",
     "data": {
      "text/plain": "English       object\nRoman-Urdu    object\ndtype: object"
     },
     "metadata": {},
     "execution_count": 6
    }
   ]
  },
  {
   "cell_type": "markdown",
   "source": "## Translate the English column values into urdu language",
   "metadata": {
    "id": "VzDX488bA8Fp",
    "cell_id": "00051-3ead44c3-ec4e-46ed-a729-20742ea64c5d",
    "deepnote_app_coordinates": {
     "x": 0,
     "y": 307,
     "w": 12,
     "h": 5
    },
    "deepnote_cell_type": "markdown",
    "deepnote_cell_height": 70
   }
  },
  {
   "cell_type": "code",
   "metadata": {
    "colab": {
     "base_uri": "https://localhost:8080/"
    },
    "id": "7ZB-AHEkA4_X",
    "outputId": "4e0e3695-7802-43c1-a1ad-3b1a7ffa4192",
    "cell_id": "00052-07ecd728-eb8b-4580-b042-1d27c3b12b8f",
    "deepnote_app_coordinates": {
     "x": 0,
     "y": 313,
     "w": 12,
     "h": 5
    },
    "deepnote_cell_type": "code",
    "deepnote_cell_height": 210.84375
   },
   "source": "df2['English'] = df2['English'].astype(\"string\")",
   "execution_count": null,
   "outputs": [
    {
     "output_type": "stream",
     "name": "stderr",
     "text": "/usr/local/lib/python3.7/dist-packages/ipykernel_launcher.py:1: SettingWithCopyWarning: \nA value is trying to be set on a copy of a slice from a DataFrame.\nTry using .loc[row_indexer,col_indexer] = value instead\n\nSee the caveats in the documentation: https://pandas.pydata.org/pandas-docs/stable/user_guide/indexing.html#returning-a-view-versus-a-copy\n  \"\"\"Entry point for launching an IPython kernel.\n"
    }
   ]
  },
  {
   "cell_type": "code",
   "metadata": {
    "colab": {
     "base_uri": "https://localhost:8080/"
    },
    "id": "1EHm4uvqBCmu",
    "outputId": "cb4864c6-ed02-4e4a-cfa9-ac814f22d596",
    "cell_id": "00053-6c7a30f3-1c21-4ce2-899a-e9984e631071",
    "deepnote_app_coordinates": {
     "x": 0,
     "y": 319,
     "w": 12,
     "h": 5
    },
    "deepnote_cell_type": "code",
    "deepnote_cell_height": 151.59375,
    "deepnote_output_heights": [
     59.59375
    ]
   },
   "source": "df2.isnull().sum()",
   "execution_count": null,
   "outputs": [
    {
     "output_type": "execute_result",
     "data": {
      "text/plain": "English       0\nRoman-Urdu    0\ndtype: int64"
     },
     "metadata": {},
     "execution_count": 8
    }
   ]
  },
  {
   "cell_type": "code",
   "metadata": {
    "colab": {
     "base_uri": "https://localhost:8080/",
     "height": 424
    },
    "id": "NN6x3x7cBF2m",
    "outputId": "38332ff5-b978-4cc7-9d2f-352f45141cab",
    "cell_id": "00054-4da87df2-c448-4840-9ef3-27be1731ca0e",
    "deepnote_app_coordinates": {
     "x": 0,
     "y": 325,
     "w": 12,
     "h": 5
    },
    "deepnote_cell_type": "code",
    "deepnote_cell_height": 492.1875,
    "deepnote_output_heights": [
     382.1875
    ]
   },
   "source": "df_eng = pd.DataFrame(df2['English'])\ndf_eng",
   "execution_count": null,
   "outputs": [
    {
     "output_type": "execute_result",
     "data": {
      "text/plain": "         English\n2       abnormal\n3        abolish\n4     abominable\n5     abominably\n6      abominate\n...          ...\n4801      tyrant\n4802        torm\n4803        torm\n4804        sins\n4805   perilious\n\n[4297 rows x 1 columns]",
      "text/html": "\n  <div id=\"df-8775067a-4361-4a98-a9b1-6e288d43d132\">\n    <div class=\"colab-df-container\">\n      <div>\n<style scoped>\n    .dataframe tbody tr th:only-of-type {\n        vertical-align: middle;\n    }\n\n    .dataframe tbody tr th {\n        vertical-align: top;\n    }\n\n    .dataframe thead th {\n        text-align: right;\n    }\n</style>\n<table border=\"1\" class=\"dataframe\">\n  <thead>\n    <tr style=\"text-align: right;\">\n      <th></th>\n      <th>English</th>\n    </tr>\n  </thead>\n  <tbody>\n    <tr>\n      <th>2</th>\n      <td>abnormal</td>\n    </tr>\n    <tr>\n      <th>3</th>\n      <td>abolish</td>\n    </tr>\n    <tr>\n      <th>4</th>\n      <td>abominable</td>\n    </tr>\n    <tr>\n      <th>5</th>\n      <td>abominably</td>\n    </tr>\n    <tr>\n      <th>6</th>\n      <td>abominate</td>\n    </tr>\n    <tr>\n      <th>...</th>\n      <td>...</td>\n    </tr>\n    <tr>\n      <th>4801</th>\n      <td>tyrant</td>\n    </tr>\n    <tr>\n      <th>4802</th>\n      <td>torm</td>\n    </tr>\n    <tr>\n      <th>4803</th>\n      <td>torm</td>\n    </tr>\n    <tr>\n      <th>4804</th>\n      <td>sins</td>\n    </tr>\n    <tr>\n      <th>4805</th>\n      <td>perilious</td>\n    </tr>\n  </tbody>\n</table>\n<p>4297 rows × 1 columns</p>\n</div>\n      <button class=\"colab-df-convert\" onclick=\"convertToInteractive('df-8775067a-4361-4a98-a9b1-6e288d43d132')\"\n              title=\"Convert this dataframe to an interactive table.\"\n              style=\"display:none;\">\n        \n  <svg xmlns=\"http://www.w3.org/2000/svg\" height=\"24px\"viewBox=\"0 0 24 24\"\n       width=\"24px\">\n    <path d=\"M0 0h24v24H0V0z\" fill=\"none\"/>\n    <path d=\"M18.56 5.44l.94 2.06.94-2.06 2.06-.94-2.06-.94-.94-2.06-.94 2.06-2.06.94zm-11 1L8.5 8.5l.94-2.06 2.06-.94-2.06-.94L8.5 2.5l-.94 2.06-2.06.94zm10 10l.94 2.06.94-2.06 2.06-.94-2.06-.94-.94-2.06-.94 2.06-2.06.94z\"/><path d=\"M17.41 7.96l-1.37-1.37c-.4-.4-.92-.59-1.43-.59-.52 0-1.04.2-1.43.59L10.3 9.45l-7.72 7.72c-.78.78-.78 2.05 0 2.83L4 21.41c.39.39.9.59 1.41.59.51 0 1.02-.2 1.41-.59l7.78-7.78 2.81-2.81c.8-.78.8-2.07 0-2.86zM5.41 20L4 18.59l7.72-7.72 1.47 1.35L5.41 20z\"/>\n  </svg>\n      </button>\n      \n  <style>\n    .colab-df-container {\n      display:flex;\n      flex-wrap:wrap;\n      gap: 12px;\n    }\n\n    .colab-df-convert {\n      background-color: #E8F0FE;\n      border: none;\n      border-radius: 50%;\n      cursor: pointer;\n      display: none;\n      fill: #1967D2;\n      height: 32px;\n      padding: 0 0 0 0;\n      width: 32px;\n    }\n\n    .colab-df-convert:hover {\n      background-color: #E2EBFA;\n      box-shadow: 0px 1px 2px rgba(60, 64, 67, 0.3), 0px 1px 3px 1px rgba(60, 64, 67, 0.15);\n      fill: #174EA6;\n    }\n\n    [theme=dark] .colab-df-convert {\n      background-color: #3B4455;\n      fill: #D2E3FC;\n    }\n\n    [theme=dark] .colab-df-convert:hover {\n      background-color: #434B5C;\n      box-shadow: 0px 1px 3px 1px rgba(0, 0, 0, 0.15);\n      filter: drop-shadow(0px 1px 2px rgba(0, 0, 0, 0.3));\n      fill: #FFFFFF;\n    }\n  </style>\n\n      <script>\n        const buttonEl =\n          document.querySelector('#df-8775067a-4361-4a98-a9b1-6e288d43d132 button.colab-df-convert');\n        buttonEl.style.display =\n          google.colab.kernel.accessAllowed ? 'block' : 'none';\n\n        async function convertToInteractive(key) {\n          const element = document.querySelector('#df-8775067a-4361-4a98-a9b1-6e288d43d132');\n          const dataTable =\n            await google.colab.kernel.invokeFunction('convertToInteractive',\n                                                     [key], {});\n          if (!dataTable) return;\n\n          const docLinkHtml = 'Like what you see? Visit the ' +\n            '<a target=\"_blank\" href=https://colab.research.google.com/notebooks/data_table.ipynb>data table notebook</a>'\n            + ' to learn more about interactive tables.';\n          element.innerHTML = '';\n          dataTable['output_type'] = 'display_data';\n          await google.colab.output.renderOutput(dataTable, element);\n          const docLink = document.createElement('div');\n          docLink.innerHTML = docLinkHtml;\n          element.appendChild(docLink);\n        }\n      </script>\n    </div>\n  </div>\n  "
     },
     "metadata": {},
     "execution_count": 9
    }
   ]
  },
  {
   "cell_type": "markdown",
   "source": "### Remove special characters from the columns",
   "metadata": {
    "id": "25ECTF8tHftH",
    "cell_id": "00055-518bf997-eb96-45f5-9b4c-d90762a75c62",
    "deepnote_app_coordinates": {
     "x": 0,
     "y": 331,
     "w": 12,
     "h": 5
    },
    "deepnote_cell_type": "markdown",
    "deepnote_cell_height": 62
   }
  },
  {
   "cell_type": "code",
   "metadata": {
    "id": "I9LULdOeBJUH",
    "cell_id": "00056-708287ec-ffe4-4e7b-88dc-d602ea654a7d",
    "deepnote_app_coordinates": {
     "x": 0,
     "y": 337,
     "w": 12,
     "h": 5
    },
    "deepnote_cell_type": "code",
    "deepnote_cell_height": 79
   },
   "source": "df_eng.drop(df_eng[df_eng.English.str.contains(r'[@#&$%+-/*]')].index, inplace=True)\ndf2.drop(df2[df2.English.str.contains(r'[@#&$%+-/*]')].index, inplace=True)",
   "execution_count": null,
   "outputs": []
  },
  {
   "cell_type": "markdown",
   "source": "### Removing indexes which are not being processed by translator",
   "metadata": {
    "id": "EqFWvGgpBUwx",
    "cell_id": "00057-a7530903-44b9-4072-bc4e-6bb5e6c4e193",
    "deepnote_app_coordinates": {
     "x": 0,
     "y": 343,
     "w": 12,
     "h": 5
    },
    "deepnote_cell_type": "markdown",
    "deepnote_cell_height": 62
   }
  },
  {
   "cell_type": "code",
   "metadata": {
    "id": "JfgG2VmsBMje",
    "cell_id": "00058-33829a76-fa1c-4488-8431-92a176d51201",
    "deepnote_app_coordinates": {
     "x": 0,
     "y": 349,
     "w": 12,
     "h": 5
    },
    "deepnote_cell_type": "code",
    "deepnote_cell_height": 79
   },
   "source": "df_eng.drop(df_eng.index[940:960], inplace=True)\ndf2.drop(df2.index[940:960], inplace=True)",
   "execution_count": null,
   "outputs": []
  },
  {
   "cell_type": "markdown",
   "source": "### Converting column to list in order to be translated",
   "metadata": {
    "id": "TvcY_TgvHK3F",
    "cell_id": "00059-f775331b-4cae-44c1-bdd5-87f5f1efa8b7",
    "deepnote_app_coordinates": {
     "x": 0,
     "y": 355,
     "w": 12,
     "h": 5
    },
    "deepnote_cell_type": "markdown",
    "deepnote_cell_height": 62
   }
  },
  {
   "cell_type": "code",
   "metadata": {
    "colab": {
     "base_uri": "https://localhost:8080/"
    },
    "id": "TiP1kq11BQaG",
    "outputId": "54121028-de80-45cf-fcbd-8f854b268f0a",
    "cell_id": "00060-2713c3ef-82ce-4a92-b66e-19afe364ca0f",
    "deepnote_app_coordinates": {
     "x": 0,
     "y": 361,
     "w": 12,
     "h": 5
    },
    "deepnote_cell_type": "code",
    "deepnote_cell_height": 131.1875,
    "deepnote_output_heights": [
     21.1875
    ]
   },
   "source": "eng_lst = df_eng['English'].to_list()\nlen(eng_lst)",
   "execution_count": null,
   "outputs": [
    {
     "output_type": "execute_result",
     "data": {
      "text/plain": "4167"
     },
     "metadata": {},
     "execution_count": 12
    }
   ]
  },
  {
   "cell_type": "code",
   "metadata": {
    "id": "WJO_0DqMHHp8",
    "cell_id": "00061-5c087ca5-51f4-4a12-8b96-42395c4d75f6",
    "deepnote_app_coordinates": {
     "x": 0,
     "y": 367,
     "w": 12,
     "h": 5
    },
    "deepnote_cell_type": "code",
    "deepnote_cell_height": 133
   },
   "source": "ur_lst = []\n\nfor i in range(len(eng_lst)):\n  val = ts.google(eng_lst[i], to_language='ur')\n  ur_lst.append(val)",
   "execution_count": null,
   "outputs": []
  },
  {
   "cell_type": "code",
   "metadata": {
    "id": "5-rlag9RHXBV",
    "cell_id": "00062-3b897950-8692-4f0e-b4b0-ab202027c97c",
    "deepnote_app_coordinates": {
     "x": 0,
     "y": 373,
     "w": 12,
     "h": 5
    },
    "deepnote_cell_type": "code",
    "deepnote_cell_height": 61
   },
   "source": "len(ur_lst)",
   "execution_count": null,
   "outputs": []
  },
  {
   "cell_type": "markdown",
   "source": "### Join translated list with dataframe",
   "metadata": {
    "id": "dzoqi33FHs3s",
    "cell_id": "00063-b11694c5-69d3-4b37-b93d-635da5a5c2f2",
    "deepnote_app_coordinates": {
     "x": 0,
     "y": 379,
     "w": 12,
     "h": 5
    },
    "deepnote_cell_type": "markdown",
    "deepnote_cell_height": 62
   }
  },
  {
   "cell_type": "code",
   "metadata": {
    "id": "Qn3klUXAHW-I",
    "cell_id": "00064-596295c1-daa6-4d19-8fdc-828212d62046",
    "deepnote_app_coordinates": {
     "x": 0,
     "y": 385,
     "w": 12,
     "h": 5
    },
    "deepnote_cell_type": "code",
    "deepnote_cell_height": 61
   },
   "source": "df2['English'] = ur_lst",
   "execution_count": null,
   "outputs": []
  },
  {
   "cell_type": "code",
   "metadata": {
    "id": "ifCL-VmyHW7I",
    "cell_id": "00065-7f38fdb2-ea05-434d-adc9-ab8e4b4544ef",
    "deepnote_app_coordinates": {
     "x": 0,
     "y": 391,
     "w": 12,
     "h": 5
    },
    "deepnote_cell_type": "code",
    "deepnote_cell_height": 61
   },
   "source": "df2.rename(columns = {'English':'Urdu'}, inplace = True)",
   "execution_count": null,
   "outputs": []
  },
  {
   "cell_type": "markdown",
   "source": "## Merging datasets",
   "metadata": {
    "id": "xvJzbhSaH6tN",
    "cell_id": "00066-a378bf25-5120-4871-b1d8-fab021438c19",
    "deepnote_app_coordinates": {
     "x": 0,
     "y": 397,
     "w": 12,
     "h": 5
    },
    "deepnote_cell_type": "markdown",
    "deepnote_cell_height": 70
   }
  },
  {
   "cell_type": "code",
   "metadata": {
    "id": "7dJ2CEuDHW3-",
    "cell_id": "00067-eb10f534-5183-4011-a8e2-bf296fd7bf87",
    "deepnote_app_coordinates": {
     "x": 0,
     "y": 403,
     "w": 12,
     "h": 5
    },
    "deepnote_cell_type": "code",
    "deepnote_cell_height": 79
   },
   "source": "data = [df_new2, df2]\ndf3 = pd.concat(data)",
   "execution_count": null,
   "outputs": []
  },
  {
   "cell_type": "code",
   "metadata": {
    "id": "oNF15a33Ol8D",
    "cell_id": "00068-24e1d138-00d5-4aa2-a576-dfb647e1c1db",
    "deepnote_app_coordinates": {
     "x": 0,
     "y": 409,
     "w": 12,
     "h": 5
    },
    "deepnote_cell_type": "code",
    "deepnote_cell_height": 61
   },
   "source": "df3.head()",
   "execution_count": null,
   "outputs": []
  },
  {
   "cell_type": "code",
   "metadata": {
    "id": "W3IMw1zyHW0d",
    "cell_id": "00069-d20adb23-773a-4d39-b347-38b478958910",
    "deepnote_app_coordinates": {
     "x": 0,
     "y": 415,
     "w": 12,
     "h": 5
    },
    "deepnote_cell_type": "code",
    "deepnote_cell_height": 61
   },
   "source": "df3.to_csv(\"/content/dataset.txt\", index=False)",
   "execution_count": null,
   "outputs": []
  },
  {
   "cell_type": "code",
   "metadata": {
    "id": "dsZq3G1EHWwF",
    "cell_id": "00070-11a816a4-8d6a-4165-8716-233abac32ed6",
    "deepnote_app_coordinates": {
     "x": 0,
     "y": 421,
     "w": 12,
     "h": 5
    },
    "deepnote_cell_type": "code",
    "deepnote_cell_height": 61
   },
   "source": "",
   "execution_count": null,
   "outputs": []
  },
  {
   "cell_type": "code",
   "metadata": {
    "id": "G0YBrt-LOc_Z",
    "cell_id": "00071-abac7fea-9805-4e76-8422-41723c7c58b1",
    "deepnote_app_coordinates": {
     "x": 0,
     "y": 427,
     "w": 12,
     "h": 5
    },
    "deepnote_cell_type": "code",
    "deepnote_cell_height": 61
   },
   "source": "",
   "execution_count": null,
   "outputs": []
  },
  {
   "cell_type": "markdown",
   "source": "<a style='text-decoration:none;line-height:16px;display:flex;color:#5B5B62;padding:10px;justify-content:end;' href='https://deepnote.com?utm_source=created-in-deepnote-cell&projectId=556a3fde-c7fd-41aa-bcd5-1397a0d6edec' target=\"_blank\">\n<img alt='Created in deepnote.com' style='display:inline;max-height:16px;margin:0px;margin-right:7.5px;' src='data:image/svg+xml;base64,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' > </img>\nCreated in <span style='font-weight:600;margin-left:4px;'>Deepnote</span></a>",
   "metadata": {
    "tags": [],
    "created_in_deepnote_cell": true,
    "deepnote_cell_type": "markdown"
   }
  }
 ],
 "nbformat": 4,
 "nbformat_minor": 0,
 "metadata": {
  "colab": {
   "name": "preprocessing(part 1).ipynb",
   "provenance": [],
   "collapsed_sections": []
  },
  "kernelspec": {
   "name": "python3",
   "display_name": "Python 3"
  },
  "language_info": {
   "name": "python"
  },
  "deepnote_notebook_id": "cb7d8b14-9346-499b-b342-cd8a5c060e11",
  "deepnote": {},
  "deepnote_app_layout": "article",
  "deepnote_execution_queue": []
 }
}